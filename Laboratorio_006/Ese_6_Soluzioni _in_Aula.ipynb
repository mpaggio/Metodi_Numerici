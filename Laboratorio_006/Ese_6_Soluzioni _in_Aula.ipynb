{
 "cells": [
  {
   "cell_type": "markdown",
   "id": "bf169812-94dc-4b34-83ff-c84a3e29571a",
   "metadata": {},
   "source": [
    "## Esercitazione 6 - 26 Marzo 2024"
   ]
  },
  {
   "cell_type": "markdown",
   "id": "6776a84b-7a0a-4001-bb1c-2316249e1bb4",
   "metadata": {},
   "source": [
    "Scrivere le funzioni python `bisezione.py`, `falsi.py`, `corde.py`, `secanti.py`,`newton.py` che implementino rispettivamente il metodo di bisezione, di falsa posizione, delle corde, delle secanti e di Newton.\n",
    "\n",
    "Le funzioni `bisezione.py`, `falsi.py` devono assumere come input:\n",
    "\n",
    "-  gli estremi dell'intervallo [a,b], dominio di f.\n",
    "-  il nome `fname` della funzione di cui calcolare lo zero\n",
    "-  tol: tolleranza per il test di arresto.\n",
    "    Nel caso del metodo di bisezione e di falsa posizione si considera per il test di arresto l’ampiezza del sottointervallo confrontata con tolx.\n",
    "-  nmax= numero massimo di iterazioni\n",
    "    \n",
    "In output:\n",
    "-      lo zero della funzione\n",
    "-      il numero di iterazioni effettuate\n",
    "-      una lista contenente tutti gli iterati xk\n",
    "\n",
    "La funzione `corde.py` deve assumere come input:\n",
    "\n",
    "-  l'iterato iniziale x_0.\n",
    "-  il coefficiente angolare comune a tutte le rette\n",
    "-  il nome `fname` della funzione di cui calcolare lo zero\n",
    "-  tolx: tolleranza per il test di arresto sull'incremento:          \n",
    "               |x_k+1-x_k|/|x_k+1|<= tolx\n",
    "-  tolf: tolleranza per il test di arresto sulla funzione\n",
    "        \n",
    "                |abs(f(x_k+1)|<= tolf\n",
    "-  nmax= numero massimo di iterazioni\n",
    "    \n",
    "In output:\n",
    "-      lo zero della funzione\n",
    "-      il numero di iterazioni effettuate\n",
    "-      una lista contenente tutti gli iterati xk\n",
    "La funzione `newton.py` deve assumere come input:\n",
    "\n",
    "-  l'iterato iniziale x_0.\n",
    "-  il nome `fname` della funzione di cui calcolare lo zero\n",
    "-  il nome `fpname` della derivata prima della funzione di cui calcolare lo zero\n",
    "-  tolx: tolleranza per il test di arresto sull'incremento:          \n",
    "               |x_k+1-x_k|/|x_k+1|<= tols\n",
    "-  tolf: tolleranza per il test di arresto sulla funzione\n",
    "        \n",
    "                |abs(f(x_k+1)|<= tolf\n",
    "-  nmax= numero massimo di iterazioni\n",
    "    \n",
    "In output:\n",
    "-      lo zero della funzione\n",
    "-      il numero di iterazioni effettuate\n",
    "-      una lista contenente tutti gli iterati xk\n",
    "\n",
    "La funzione `secanti.py` deve assumere come input:\n",
    "\n",
    "-  due iterati iniziali x_1, x_0.\n",
    "-  il nome `fname` della funzione di cui calcolare lo zero\n",
    "-  tolx: tolleranza per il test di arresto sull'incremento:         \n",
    "               |x_k+1-x_k|/|x_k+1|<= tolx\n",
    "-  tolf: tolleranza per il test di arresto sulla funzione\n",
    "        \n",
    "                |abs(f(x_k+1)|<= tolf\n",
    "-  nmax= numero massimo di iterazioni\n",
    "    \n",
    "In output:\n",
    "-      lo zero della funzione\n",
    "-      il numero di iterazioni effettuate\n",
    "-      una lista contenente tutti gli iterati xk"
   ]
  },
  {
   "cell_type": "code",
   "execution_count": 1,
   "id": "f6c8cf9a-1306-4a0e-ad8d-8cbb59caf6c5",
   "metadata": {
    "tags": []
   },
   "outputs": [],
   "source": [
    "import math\n",
    "import sympy as sym\n"
   ]
  },
  {
   "cell_type": "code",
   "execution_count": 2,
   "id": "50986ef9-6527-49fc-8dee-7b8d9d4c05b2",
   "metadata": {
    "tags": []
   },
   "outputs": [],
   "source": [
    "def sign(x):\n",
    "  \"\"\"\n",
    "  Funzione segno che restituisce 1 se x è positivo, 0 se x è zero e -1 se x è negativo.\n",
    "  \"\"\"\n",
    "  return math.copysign(1, x)"
   ]
  },
  {
   "cell_type": "code",
   "execution_count": 3,
   "id": "efc19ce4-f606-47f2-9028-0c722385b1f1",
   "metadata": {
    "tags": []
   },
   "outputs": [],
   "source": [
    "def metodo_bisezione(fname, a, b, tolx):\n",
    " \"\"\"\n",
    " Implementa il metodo di bisezione per il calcolo degli zeri di un'equazione non lineare.\n",
    "\n",
    " Parametri:\n",
    "  f: La funzione da cui si vuole calcolare lo zero.\n",
    "  a: L'estremo sinistro dell'intervallo di ricerca.\n",
    "  b: L'estremo destro dell'intervallo di ricerca.\n",
    "  tol: La tolleranza di errore.\n",
    "\n",
    " Restituisce:\n",
    "  Lo zero approssimato della funzione, il numero di iterazioni e la lista di valori intermedi.\n",
    " \"\"\"\n",
    " fa=fname(a)\n",
    " fb=fname(b)\n",
    " if sign(fa)*sign(fb)>=0:\n",
    "     print(\"Non è possibile applicare il metodo di bisezione \\n\")\n",
    "     return None, None,None\n",
    "\n",
    " it = 0\n",
    " v_xk = []\n",
    "\n",
    " \n",
    " maxit = math.ceil(math.log2((b - a) / tolx))-1\n",
    "\n",
    " \n",
    " while abs(b - a) > tolx:\n",
    "    xk = a+(b-a)/2\n",
    "    v_xk.append(xk)\n",
    "    it += 1\n",
    "    fxk=fname(xk)\n",
    "    if fxk==0:\n",
    "      return xk, it, v_xk\n",
    "\n",
    "    if sign(fa)*sign(fxk)>0:  #continua su [xk,b]\n",
    "      a = xk\n",
    "      fa=fxk\n",
    "    elif sign(fxk)*sign(fb)>0:   #continua su [a,xk]\n",
    "      b = xk\n",
    "      fb=fxk\n",
    "\n",
    " \n",
    " return xk, it, v_xk\n",
    "\n",
    "\n"
   ]
  },
  {
   "cell_type": "code",
   "execution_count": 4,
   "id": "927f9270-ae77-47e4-8dcd-7779fbbd9a16",
   "metadata": {
    "tags": []
   },
   "outputs": [],
   "source": [
    "def falsi(fname, a, b, maxit, tolx,tolf):\n",
    " \"\"\"\n",
    " Implementa il metodo di falsa posizione per il calcolo degli zeri di un'equazione non lineare.\n",
    "\n",
    " Parametri:\n",
    "  f: La funzione da cui si vuole calcolare lo zero.\n",
    "  a: L'estremo sinistro dell'intervallo di ricerca.\n",
    "  b: L'estremo destro dell'intervallo di ricerca.\n",
    "  tolx: La tolleranza di errore sulla soluzione\n",
    "  maxit= numero massuno di iterazioni\n",
    "  tolf: tolleranza sulla funzione\n",
    "\n",
    " Restituisce:\n",
    "  Lo zero approssimato della funzione, il numero di iterazioni e la lista di valori intermedi.\n",
    " \"\"\"\n",
    " fa=fname(a);\n",
    " fb=fname(b);\n",
    " if sign(fa)*sign(fb)>=0:\n",
    "     print(\"Non è possibile applicare il metodo di falsa posizione \\n\")\n",
    "     return None, None,None\n",
    "\n",
    " it = 0\n",
    " v_xk = []\n",
    " \n",
    " fxk=10\n",
    "\n",
    " \n",
    " while it < maxit and abs(b - a) > tolx and abs(fxk) > tolf:\n",
    "    xk = a-fa*(b-a)/(fb-fa)\n",
    "    v_xk.append(xk)\n",
    "    it += 1\n",
    "    fxk=fname(xk)\n",
    "    if fxk==0:\n",
    "      return xk, it, v_xk\n",
    "\n",
    "    if sign(fa)*sign(fxk)>0:  #continua su [xk,b]\n",
    "      a = xk\n",
    "      fa=fxk\n",
    "    elif sign(fxk)*sign(fb)>0:   #continua su [a,xk]\n",
    "      b = xk\n",
    "      fb=fxk\n",
    "\n",
    " \n",
    " return xk, it, v_xk\n"
   ]
  },
  {
   "cell_type": "code",
   "execution_count": 24,
   "id": "d7f4464e-0a95-4487-9ef8-a5f8742f7482",
   "metadata": {
    "tags": []
   },
   "outputs": [],
   "source": [
    "def newton(fname,fpname,x0,tolx,tolf,nmax):\n",
    " #Corde\n",
    "        xk=[]\n",
    "        fx0=fname(x0)\n",
    "        if fpname(x0)==0:\n",
    "            print(\"Derivata nulla in x0\")\n",
    "            return None,None,None\n",
    "        d=fx0/fpname(x0)\n",
    "        x1=x0-d\n",
    "        \n",
    "        fx1=fname(x1)\n",
    "        xk.append(x1)\n",
    "        it=1\n",
    "        \n",
    "        while it<nmax and  abs(fx1)>=tolf and abs(d)>=tolx*abs(x1) :\n",
    "           x0=x1\n",
    "           fx0=fname(x0)\n",
    "           if fpname(x0)==0:\n",
    "                print(\"Derivata nulla in x0\")\n",
    "                return None,None,None\n",
    "        \n",
    "           d=fx0/fpname(x0)\n",
    "           '''\n",
    "           #x1= ascissa del punto di intersezione tra  la retta che passa per il punto\n",
    "           (x0,f(x0)) ed è tangente alla funzione f(x) nel punto (x0,f(x0))  e l'asse x\n",
    "           '''\n",
    "           x1=x0-d  \n",
    "           fx1=fname(x1)\n",
    "           it=it+1\n",
    "         \n",
    "           xk.append(x1)\n",
    "          \n",
    "        if it==nmax:\n",
    "            print('raggiunto massimo numero di iterazioni \\n')\n",
    "            \n",
    "        \n",
    "        return x1,it,xk"
   ]
  },
  {
   "cell_type": "code",
   "execution_count": 26,
   "id": "f22cc48f-1b52-4fbc-bbae-98e10bb6cfaf",
   "metadata": {
    "tags": []
   },
   "outputs": [
    {
     "name": "stdout",
     "output_type": "stream",
     "text": [
      "-1 - exp(-x)\n"
     ]
    },
    {
     "data": {
      "image/png": "[encoded data removed]",
      "text/plain": [
       "<Figure size 432x288 with 1 Axes>"
      ]
     },
     "metadata": {
      "needs_background": "light"
     },
     "output_type": "display_data"
    },
    {
     "name": "stdout",
     "output_type": "stream",
     "text": [
      "Lo zero approssimato con Bisezione è  è: -2.2737367544323206e-13\n",
      "f(-2.2737367544323206e-13) = 4.547473508864641e-13\n",
      "Lo zero approssimato con falsa posizione è : 3.2573943542502093e-13\n",
      "f(3.2573943542502093e-13) = -6.514788708500419e-13\n",
      "Lo zero approssimato è: -2.3791786736070093e-14\n",
      "Errore Newton [6.63110032e-02 1.11102845e-03 3.08653167e-07 2.37917867e-14]\n",
      "f(1.4142135623724243) = 4.75175454539567e-14\n"
     ]
    },
    {
     "data": {
      "image/png": "[encoded data removed]",
      "text/plain": [
       "<Figure size 432x288 with 1 Axes>"
      ]
     },
     "metadata": {
      "needs_background": "light"
     },
     "output_type": "display_data"
    }
   ],
   "source": [
    "# Esempio di utilizzo\n",
    "import numpy as np\n",
    "import matplotlib.pyplot as plt\n",
    "import sympy as sym\n",
    "from sympy.utilities.lambdify import lambdify\n",
    "\n",
    "scelta=1\n",
    "\n",
    "if scelta==1:\n",
    "    x=sym.symbols('x')\n",
    "    fs =  sym.exp(-x)-(x+1)\n",
    "    dfs=sym.diff(fs,x,1)\n",
    "    print(dfs)\n",
    "    titolo='exp(-x)-(x+1)'\n",
    "    fp=lambdify(x,dfs,np)  #l'ultimo argomento np (nickaname di numpy) serve per specificare che la lambda function \n",
    "#può prendere come argomento un numpy array ed eseguire l'operazione su tutte le sue componenti.\n",
    "    f=lambdify(x,fs,np)\n",
    "\n",
    "    alfa=0\n",
    "    a = -1\n",
    "    b = 2\n",
    "    x0=-0.5\n",
    "    xm1=-0.3\n",
    "\n",
    "if scelta==2:\n",
    "    x=sym.symbols('x')\n",
    "    fs =  sym.log(x+3)/sym.log(2)-2 #log_b(a)=log(a)/log(b)\n",
    "    dfs=sym.diff(fs,x,1)\n",
    "    print(df)\n",
    "    titolo='log2(x+3)-2'\n",
    "    fp=lambdify(x,dfs,np)  #l'ultimo argomento np (nickaname di numpy) serve per specificare che la lambda function \n",
    "#può prendere come argomento un numpy array ed eseguire l'operazione su tutte le sue componenti.\n",
    "    f=lambdify(x,fs,np)\n",
    "\n",
    "    alfa=1\n",
    "    a = -1\n",
    "    b = 2\n",
    "    x0=-0.5\n",
    "    xm1=0.5\n",
    "    \n",
    "if scelta==3:\n",
    "    x=sym.symbols('x')\n",
    "    fs =  sym.sqrt(x)-x**2/4\n",
    "    dfs=sym.diff(fs,x,1)\n",
    "    print(df)\n",
    "    titolo='sqrt(x)-x**2/4'\n",
    "    fp=lambdify(x,dfs,np)  #l'ultimo argomento np (nickaname di numpy) serve per specificare che la lambda function \n",
    "#può prendere come argomento un numpy array ed eseguire l'operazione su tutte le sue componenti.\n",
    "    f=lambdify(x,fs,np)\n",
    "\n",
    "    alfa=2.0**(4/3)\n",
    "    a = 1\n",
    "    b = 3\n",
    "    x0=1.8\n",
    "    xm1=1.5\n",
    "       \n",
    "xx=np.linspace(a,b,100)\n",
    "plt.plot(xx,f(xx))\n",
    "plt.title(titolo)\n",
    "plt.show()\n",
    "tolx = 1e-12\n",
    "tolf=1e-12\n",
    "maxit=1000\n",
    "zero_b,it_b,xk_b = metodo_bisezione(f, a, b, tolx)\n",
    "zero_f,it_f,xk_f = falsi(f, a, b, maxit, tolx,tolf)\n",
    "zero_n,it_n,xk_n = newton(f, fp,x0, tolx,tolf, maxit) \n",
    "\n",
    "xk_b=np.array(xk_b)\n",
    "\n",
    "if (zero_b!=None):\n",
    "    print(f\"Lo zero approssimato con Bisezione è  è: {zero_b}\")\n",
    "    print(f\"f({zero_b}) = {f(zero_b)}\")\n",
    "    ek_b=np.abs(xk_b-alfa)\n",
    "\n",
    "    plt.semilogy(range(it_b),ek_b,'-s')\n",
    "\n",
    "xk_f=np.array(xk_f)\n",
    "if (zero_f!=None):\n",
    "    print(f\"Lo zero approssimato con falsa posizione è : {zero_f}\")\n",
    "    ek_f=np.abs(xk_f-alfa)\n",
    "    print(f\"f({zero_f}) = {f(zero_f)}\")\n",
    "    plt.semilogy(range(it_f),ek_f,'-s')\n",
    "    \n",
    "\n",
    "xk_n=np.array(xk_n)\n",
    "if (zero_n!=None):\n",
    "    print(f\"Lo zero approssimato è: {zero_n}\")\n",
    "    ek_n=np.abs(xk_n-alfa)\n",
    "    print(\"Errore Newton\",ek_n)\n",
    "    print(f\"f({zero}) = {f(zero_n)}\")\n",
    "    plt.semilogy(range(it_n),ek_n,'-*')\n",
    "    \n",
    " "
   ]
  },
  {
   "cell_type": "markdown",
   "id": "22339d84-a5cc-4950-a537-104611a315f8",
   "metadata": {},
   "source": [
    " Confrontare i metodi sopra implementati nei casi seguenti:\n",
    "\n",
    "- f(x) = exp(−x) − (x + 1) in [−1, 2] con x0 = −0.5, x−1 = −0.3, tolx = 1.e − 12, tolf = 1.e − 12, (soluzione esatta alfa=0);\n",
    "- f(x) = log2(x + 3) − 2 in [−1, 2] con x0 = −0.5, x−1 = 0.5, tolx = 1.e − 12, tolf = 1.e − 12, (soluzione esatta alfa=1);\n",
    "- f(x) =sqrt(x)-(x^2)/4 in [1, 3] con x0 = 1.8, x−1 = 1.5, tolx = 1.e − 12, tolf =1.e − 12, (soluzione esatta alfa=2**(4/3))\n",
    "\n",
    "Mostrare in un grafico in scala semilogaritmica sulle ordinate (comando semilogy) l’andamento di ek = |xk − α|, k = 1, ..., nit, sapendo che α = 0, 1, 2**(4/3) nei\n",
    "tre casi.\n",
    "Calcolare infine, a partire dai valori di {xk} con k sufficientemente grande, la stima dell’ordine di convergenza p come\n",
    "\n",
    "p= ln (|x_{k+1}-x_k|/|x_k-x_{k-1}|)/ln (|x_k-x_{k-1}|/|x_{k-1}-x_{k-2}|)"
   ]
  },
  {
   "cell_type": "markdown",
   "id": "deaeb530-4fe7-4ded-9f34-449ef48fa995",
   "metadata": {},
   "source": [
    "Utilizzare il metodo di Newton e il metodo di Newton modificato per il calcolo\n",
    "dello zero di molteplicita' 2 della funzione f(x) = \n",
    "x^3 + x^2− 33x + 63 con x0 = 1,\n",
    "tolx = 1.e − 12 e tolf = 1.e − 12. Calcolare infine, a partire dai valori di {xk}\n",
    "ottenuti nei due casi, la stima dell’ordine di convergenza p."
   ]
  },
  {
   "cell_type": "markdown",
   "id": "d9787fdd-725e-4803-b148-8a137e4335c8",
   "metadata": {},
   "source": [
    "Utilizzare il metodo di bisezione ed il metodo di Newton per calcolare la radice quadrata di 2. Analizzate i risultati."
   ]
  },
  {
   "cell_type": "markdown",
   "id": "6ffd1881-6df4-426e-a962-3a5318513229",
   "metadata": {},
   "source": [
    "Scrivere la function `NewtonRaphson.py`, che implementa il metodo di Newton-Raphson\n",
    "per il calcolo della soluzione di un sistema di equazioni non lineari. \n",
    "\n",
    "Tale function\n",
    "deve assumere come dati in input:\n",
    "- fname: nome della funzione vettoriale di cui calcolare lo zero;\n",
    "- JacName: nome della funzione che calcola lo J acobiano della funzione vettoriale;\n",
    "- X0: vettore contenente le componenti dell'iterato iniziale);\n",
    "- tolx tolleranza  per il test d'arresto sull'incremento\n",
    "        ||X_{k+1}-X_k||/||X_{k}||<= tolx\n",
    "- tolf tolleranza per il test del residuo\n",
    "        ||F(Xk+1)|| <= tolf;\n",
    "- NMAX numero massimo di iterazioni.\n",
    "In output devono essere restituiti il vettore contenente l'approssimazione dello zero x, un vettore contenente l'errore relativo tra due iterati successivi, il numero di iterazioni\n",
    "effettuate, nit.\n"
   ]
  },
  {
   "cell_type": "markdown",
   "id": "593eac55-b48c-4454-b0e8-73338f053717",
   "metadata": {},
   "source": [
    "Risolvere i seguenti tre sistemi non lineari:\n",
    "1) \n",
    "2x0-cos(x1)=0\n",
    "\n",
    "sin(x0)+2x1=0\n",
    "\n",
    "2) \n",
    "x0^2+x1^2-9=0\n",
    "\n",
    "x0^2+x1*2-2=0\n",
    "\n",
    "3) \n",
    "4x0^2+x_1^2^=4\n",
    "\n",
    "x0+x1=sin(x0-x1)\n",
    "\n"
   ]
  },
  {
   "cell_type": "markdown",
   "id": "2c279af1-357d-42ae-9669-d5160b0b6054",
   "metadata": {},
   "source": [
    "Per determinare l'iterato iniziale X 0 , servirsi del metodo grafico per individuare un \n",
    "iterato iniziale nell'intorno della soluzione che si vuole approssimare. Visualizzare le \n",
    "curve di livello corrisponenti a z=O delle due superfici z = fi (x1 ,x2 ) e z = h(x1 , x 2 ) e \n",
    "definire come iterato iniziale un vettore X 0 oppurtuno le cui componenti stanno in un \n",
    "intorno della soluzione (punti di intersezione tra le curve di livello delle due superfici) \n",
    " "
   ]
  }
 ],
 "metadata": {
  "kernelspec": {
   "display_name": "Python 3 (ipykernel)",
   "language": "python",
   "name": "python3"
  },
  "language_info": {
   "codemirror_mode": {
    "name": "ipython",
    "version": 3
   },
   "file_extension": ".py",
   "mimetype": "text/x-python",
   "name": "python",
   "nbconvert_exporter": "python",
   "pygments_lexer": "ipython3",
   "version": "3.9.12"
  }
 },
 "nbformat": 4,
 "nbformat_minor": 5
}
