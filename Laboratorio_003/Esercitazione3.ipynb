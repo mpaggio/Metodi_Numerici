{
 "cells": [
  {
   "cell_type": "markdown",
   "id": "cd8d6a57-49d8-4eab-bb0f-107b277ad3d1",
   "metadata": {},
   "source": [
    "## Esercizi sui Numpy array  5 Marzo 2024\n"
   ]
  },
  {
   "cell_type": "markdown",
   "id": "d3445102-1135-4f49-8673-dcba181f883b",
   "metadata": {},
   "source": [
    "**Esercizio 1**\n",
    "\n",
    "Confrontare il tempo di esecuzione dei due metodi per la creazione di un numpy array di 2000000 di elementi equidistanti nell'intervallo [-4,4]:\n",
    "\n",
    "    1) costruzione con utilizzo di np.linspace\n",
    "    \n",
    "    2) Assegnazione manuale dei valori nel ciclo.\n",
    "    "
   ]
  },
  {
   "cell_type": "code",
   "execution_count": 2,
   "id": "1d996af3-a1b2-4592-bb5c-cc9ddd50bd68",
   "metadata": {
    "tags": []
   },
   "outputs": [
    {
     "name": "stdout",
     "output_type": "stream",
     "text": [
      "Tempo di esecuzione array standard:  3.089091599918902\n",
      "Tempo di esecuzione NumPy array:  0.23400910012423992\n"
     ]
    }
   ],
   "source": [
    "import numpy as np\n",
    "import time\n",
    "num = 20000000\n",
    "\n",
    "# PRIMO CASO:\n",
    "start = time.perf_counter()\n",
    "step = 8 / num\n",
    "a = -4\n",
    "x = []\n",
    "for i in range(0, num):\n",
    "    x.append(a+i*step)\n",
    "end = time.perf_counter()\n",
    "print(\"Tempo di esecuzione array standard: \", end - start)\n",
    "\n",
    "# SECONDO CASO:\n",
    "start = time.perf_counter()\n",
    "x = np.linspace(-4,4,num)\n",
    "end = time.perf_counter()\n",
    "print(\"Tempo di esecuzione NumPy array: \", end - start)"
   ]
  },
  {
   "cell_type": "markdown",
   "id": "59db5cfc-4e88-42a8-afc7-1d666abd0abc",
   "metadata": {},
   "source": [
    "**Esercizio 2**\n",
    "\n",
    "-     Creare un numpy array 1D (chiamato c) di valori equidistanti tra 7 e 41 con step 2.\n",
    "\n",
    "-      Trasformare l'array c in un numpy array 2d (chiamato c1) con shape (2,9) usando il metodo .reshape((m,n))\n",
    "\n",
    "-       Determinare se c1 e' una copia o una vista dell'originale."
   ]
  },
  {
   "cell_type": "code",
   "execution_count": 3,
   "id": "1f9d3269-b304-44ce-90c8-9766dce478e3",
   "metadata": {
    "tags": []
   },
   "outputs": [
    {
     "name": "stdout",
     "output_type": "stream",
     "text": [
      "Array iniziale: \n",
      "[ 7  9 11 13 15 17 19 21 23 25 27 29 31 33 35 37 39 41]\n",
      "Array 2D dopo reshape: \n",
      "[[ 7  9 11 13 15 17 19 21 23]\n",
      " [25 27 29 31 33 35 37 39 41]]\n",
      "Shares memory: True\n",
      "Condividono lo stesso spazio di memoria\n"
     ]
    }
   ],
   "source": [
    "c = np.arange(7,42,2)\n",
    "print(\"Array iniziale: \")\n",
    "print(c)\n",
    "d = np.reshape(c,(2,9))\n",
    "print(\"Array 2D dopo reshape: \")\n",
    "print(d)\n",
    "if np.shares_memory(c,d) == True:\n",
    "    print(\"Shares memory: True\")\n",
    "    print(\"Condividono lo stesso spazio di memoria\")\n",
    "else:\n",
    "    print(\"Shares memory: False\")\n",
    "    print(\"Non condividono lo stesso spazio di memoria\")\n",
    "    "
   ]
  },
  {
   "cell_type": "markdown",
   "id": "7b81197a-a950-48ab-8e75-31855ac69d9d",
   "metadata": {},
   "source": [
    "**Esercizio 3**\n",
    "\n",
    "-     Costruire un numpy array 1d, denominato $C$ di valori che variano tra 15 e 41 con step 2\n",
    "\n",
    "-     Trasformarlo in un numpy array 2d con shape(7,2) usando il metodo . resize(7,2)  che lavora in-place,  (cioè  modifica l'array esistente, non è necessario creare una copia). Verificare la shape di C e dire se C è copia o vista?"
   ]
  },
  {
   "cell_type": "code",
   "execution_count": 4,
   "id": "57b7c83c-287b-46b6-b2a5-424f975844cf",
   "metadata": {
    "tags": []
   },
   "outputs": [
    {
     "name": "stdout",
     "output_type": "stream",
     "text": [
      "Array iniziale: \n",
      "[15 17 19 21 23 25 27 29 31 33 35 37 39]\n",
      "Array 2D dopo resize: \n",
      "[[15 17]\n",
      " [19 21]\n",
      " [23 25]\n",
      " [27 29]\n",
      " [31 33]\n",
      " [35 37]\n",
      " [39  0]]\n",
      "Si tratta di una copia\n"
     ]
    }
   ],
   "source": [
    "C = np.arange(15,41,2)\n",
    "print(\"Array iniziale: \")\n",
    "print(C)\n",
    "\n",
    "C.resize(7,2)\n",
    "print(\"Array 2D dopo resize: \")\n",
    "print(C)\n",
    "\n",
    "# CONTROLLO SE E' VISTA OPPURE NO:\n",
    "if C.base == None:\n",
    "    print(\"Si tratta di una copia\")\n",
    "else:\n",
    "    print(\"Si tratta di una view\")"
   ]
  },
  {
   "cell_type": "markdown",
   "id": "d1adc080-9ce4-404c-ba18-c831f2625214",
   "metadata": {},
   "source": [
    "**Esercizio 4**\n",
    "\n",
    "-      Costruire il numpy array  s  formato da 100 valori equidistanti in  [0,4],\n",
    "\n",
    "-      considerarne il reshape in un array 2d che ha 4 righe con un numero opportuno di colonne"
   ]
  },
  {
   "cell_type": "code",
   "execution_count": 5,
   "id": "34b00e44-cb51-4b05-9ae3-2bc3b99fc096",
   "metadata": {
    "tags": []
   },
   "outputs": [
    {
     "name": "stdout",
     "output_type": "stream",
     "text": [
      "Array iniziale: \n",
      "[0.         0.04040404 0.08080808 0.12121212 0.16161616 0.2020202\n",
      " 0.24242424 0.28282828 0.32323232 0.36363636 0.4040404  0.44444444\n",
      " 0.48484848 0.52525253 0.56565657 0.60606061 0.64646465 0.68686869\n",
      " 0.72727273 0.76767677 0.80808081 0.84848485 0.88888889 0.92929293\n",
      " 0.96969697 1.01010101 1.05050505 1.09090909 1.13131313 1.17171717\n",
      " 1.21212121 1.25252525 1.29292929 1.33333333 1.37373737 1.41414141\n",
      " 1.45454545 1.49494949 1.53535354 1.57575758 1.61616162 1.65656566\n",
      " 1.6969697  1.73737374 1.77777778 1.81818182 1.85858586 1.8989899\n",
      " 1.93939394 1.97979798 2.02020202 2.06060606 2.1010101  2.14141414\n",
      " 2.18181818 2.22222222 2.26262626 2.3030303  2.34343434 2.38383838\n",
      " 2.42424242 2.46464646 2.50505051 2.54545455 2.58585859 2.62626263\n",
      " 2.66666667 2.70707071 2.74747475 2.78787879 2.82828283 2.86868687\n",
      " 2.90909091 2.94949495 2.98989899 3.03030303 3.07070707 3.11111111\n",
      " 3.15151515 3.19191919 3.23232323 3.27272727 3.31313131 3.35353535\n",
      " 3.39393939 3.43434343 3.47474747 3.51515152 3.55555556 3.5959596\n",
      " 3.63636364 3.67676768 3.71717172 3.75757576 3.7979798  3.83838384\n",
      " 3.87878788 3.91919192 3.95959596 4.        ]\n",
      "Array bidimensionale creato: \n",
      "[[0.         0.04040404 0.08080808 0.12121212 0.16161616 0.2020202\n",
      "  0.24242424 0.28282828 0.32323232 0.36363636 0.4040404  0.44444444\n",
      "  0.48484848 0.52525253 0.56565657 0.60606061 0.64646465 0.68686869\n",
      "  0.72727273 0.76767677 0.80808081 0.84848485 0.88888889 0.92929293\n",
      "  0.96969697]\n",
      " [1.01010101 1.05050505 1.09090909 1.13131313 1.17171717 1.21212121\n",
      "  1.25252525 1.29292929 1.33333333 1.37373737 1.41414141 1.45454545\n",
      "  1.49494949 1.53535354 1.57575758 1.61616162 1.65656566 1.6969697\n",
      "  1.73737374 1.77777778 1.81818182 1.85858586 1.8989899  1.93939394\n",
      "  1.97979798]\n",
      " [2.02020202 2.06060606 2.1010101  2.14141414 2.18181818 2.22222222\n",
      "  2.26262626 2.3030303  2.34343434 2.38383838 2.42424242 2.46464646\n",
      "  2.50505051 2.54545455 2.58585859 2.62626263 2.66666667 2.70707071\n",
      "  2.74747475 2.78787879 2.82828283 2.86868687 2.90909091 2.94949495\n",
      "  2.98989899]\n",
      " [3.03030303 3.07070707 3.11111111 3.15151515 3.19191919 3.23232323\n",
      "  3.27272727 3.31313131 3.35353535 3.39393939 3.43434343 3.47474747\n",
      "  3.51515152 3.55555556 3.5959596  3.63636364 3.67676768 3.71717172\n",
      "  3.75757576 3.7979798  3.83838384 3.87878788 3.91919192 3.95959596\n",
      "  4.        ]]\n"
     ]
    }
   ],
   "source": [
    "s = np.linspace(0,4,100)\n",
    "print(\"Array iniziale: \")\n",
    "print(s)\n",
    "t = np.reshape(s, (4,-1))\n",
    "print(\"Array bidimensionale creato: \")\n",
    "print(t)\n"
   ]
  },
  {
   "cell_type": "markdown",
   "id": "d40f5d7a-4808-4004-b806-b8b75bcaa01b",
   "metadata": {},
   "source": [
    "**Esercizio 5**\n",
    "\n",
    "-     Costruire il numpy array s formato da 100 valori equidistanti in  [0,4]\n",
    "-     considerarne il reshape in un array 2d che ha 4 colonne con un numero opportuno di righe"
   ]
  },
  {
   "cell_type": "code",
   "execution_count": 6,
   "id": "bc53e9d7-5e6e-4d08-a089-40cccfdea7a5",
   "metadata": {
    "tags": []
   },
   "outputs": [
    {
     "name": "stdout",
     "output_type": "stream",
     "text": [
      "Array iniziale: \n",
      "[0.         0.04040404 0.08080808 0.12121212 0.16161616 0.2020202\n",
      " 0.24242424 0.28282828 0.32323232 0.36363636 0.4040404  0.44444444\n",
      " 0.48484848 0.52525253 0.56565657 0.60606061 0.64646465 0.68686869\n",
      " 0.72727273 0.76767677 0.80808081 0.84848485 0.88888889 0.92929293\n",
      " 0.96969697 1.01010101 1.05050505 1.09090909 1.13131313 1.17171717\n",
      " 1.21212121 1.25252525 1.29292929 1.33333333 1.37373737 1.41414141\n",
      " 1.45454545 1.49494949 1.53535354 1.57575758 1.61616162 1.65656566\n",
      " 1.6969697  1.73737374 1.77777778 1.81818182 1.85858586 1.8989899\n",
      " 1.93939394 1.97979798 2.02020202 2.06060606 2.1010101  2.14141414\n",
      " 2.18181818 2.22222222 2.26262626 2.3030303  2.34343434 2.38383838\n",
      " 2.42424242 2.46464646 2.50505051 2.54545455 2.58585859 2.62626263\n",
      " 2.66666667 2.70707071 2.74747475 2.78787879 2.82828283 2.86868687\n",
      " 2.90909091 2.94949495 2.98989899 3.03030303 3.07070707 3.11111111\n",
      " 3.15151515 3.19191919 3.23232323 3.27272727 3.31313131 3.35353535\n",
      " 3.39393939 3.43434343 3.47474747 3.51515152 3.55555556 3.5959596\n",
      " 3.63636364 3.67676768 3.71717172 3.75757576 3.7979798  3.83838384\n",
      " 3.87878788 3.91919192 3.95959596 4.        ]\n",
      "Array bidimensionale creato: \n",
      "[[0.         0.04040404 0.08080808 0.12121212]\n",
      " [0.16161616 0.2020202  0.24242424 0.28282828]\n",
      " [0.32323232 0.36363636 0.4040404  0.44444444]\n",
      " [0.48484848 0.52525253 0.56565657 0.60606061]\n",
      " [0.64646465 0.68686869 0.72727273 0.76767677]\n",
      " [0.80808081 0.84848485 0.88888889 0.92929293]\n",
      " [0.96969697 1.01010101 1.05050505 1.09090909]\n",
      " [1.13131313 1.17171717 1.21212121 1.25252525]\n",
      " [1.29292929 1.33333333 1.37373737 1.41414141]\n",
      " [1.45454545 1.49494949 1.53535354 1.57575758]\n",
      " [1.61616162 1.65656566 1.6969697  1.73737374]\n",
      " [1.77777778 1.81818182 1.85858586 1.8989899 ]\n",
      " [1.93939394 1.97979798 2.02020202 2.06060606]\n",
      " [2.1010101  2.14141414 2.18181818 2.22222222]\n",
      " [2.26262626 2.3030303  2.34343434 2.38383838]\n",
      " [2.42424242 2.46464646 2.50505051 2.54545455]\n",
      " [2.58585859 2.62626263 2.66666667 2.70707071]\n",
      " [2.74747475 2.78787879 2.82828283 2.86868687]\n",
      " [2.90909091 2.94949495 2.98989899 3.03030303]\n",
      " [3.07070707 3.11111111 3.15151515 3.19191919]\n",
      " [3.23232323 3.27272727 3.31313131 3.35353535]\n",
      " [3.39393939 3.43434343 3.47474747 3.51515152]\n",
      " [3.55555556 3.5959596  3.63636364 3.67676768]\n",
      " [3.71717172 3.75757576 3.7979798  3.83838384]\n",
      " [3.87878788 3.91919192 3.95959596 4.        ]]\n"
     ]
    }
   ],
   "source": [
    "s = np.linspace(0,4,100)\n",
    "print(\"Array iniziale: \")\n",
    "print(s)\n",
    "t = np.reshape(s, (-1,4))\n",
    "print(\"Array bidimensionale creato: \")\n",
    "print(t)\n"
   ]
  },
  {
   "cell_type": "markdown",
   "id": "6df0f7e2-8d6d-45e3-b6c8-73ed973b62f0",
   "metadata": {},
   "source": [
    "**Esercizio 6**  \n",
    "\n",
    "-     Scrivere il numpy  array 2d, A, [[10,11,12],[13,14,15],[16,17,18]] \n",
    "-     trasformarlo in un numpy array 1d usando il metodo .ravel()  \n",
    "-     Si tratta di una copia o di una vista?"
   ]
  },
  {
   "cell_type": "code",
   "execution_count": 7,
   "id": "968f3a40-d0e1-485b-979d-f98c91a10fdd",
   "metadata": {
    "tags": []
   },
   "outputs": [
    {
     "name": "stdout",
     "output_type": "stream",
     "text": [
      "Array iniziale 2D:\n",
      "[[10 11 12]\n",
      " [13 14 15]\n",
      " [16 17 18]]\n",
      "Array 1D:\n",
      "[10 11 12 13 14 15 16 17 18]\n",
      "Base:\n",
      "[[10 11 12]\n",
      " [13 14 15]\n",
      " [16 17 18]]\n"
     ]
    }
   ],
   "source": [
    "A = np.array([[10,11,12],[13,14,15],[16,17,18]])\n",
    "print(\"Array iniziale 2D:\")\n",
    "print(A)\n",
    "B = A.ravel()\n",
    "print(\"Array 1D:\")\n",
    "print(B)\n",
    "# Se nella prossima stampa viene fuori un valore diverso da None, allora è una view\n",
    "print(\"Base:\")\n",
    "print(B.base)"
   ]
  },
  {
   "cell_type": "markdown",
   "id": "19559c2a-0ac7-4d4a-b6ff-38e58843b3b6",
   "metadata": {},
   "source": [
    "**Esercizio 7**  \n",
    "\n",
    "-     Scrivere il numpy  array 2d, A, [[10,11,12],[13,14,15],[16,17,18]] \n",
    "-     trasformarlo in un numpy array 1d usando il metodo  .flatten().\n",
    "-     Si tratta di una copia o di una vista?"
   ]
  },
  {
   "cell_type": "code",
   "execution_count": 8,
   "id": "a7fdeee3-cc18-4f59-8830-700b4aea52b9",
   "metadata": {
    "tags": []
   },
   "outputs": [
    {
     "name": "stdout",
     "output_type": "stream",
     "text": [
      "Array iniziale 2D:\n",
      "[[10 11 12]\n",
      " [13 14 15]\n",
      " [16 17 18]]\n",
      "Array 1D:\n",
      "[10 11 12 13 14 15 16 17 18]\n",
      "Base:\n",
      "None\n"
     ]
    }
   ],
   "source": [
    "A = np.array([[10,11,12],[13,14,15],[16,17,18]])\n",
    "print(\"Array iniziale 2D:\")\n",
    "print(A)\n",
    "B = A.flatten()\n",
    "print(\"Array 1D:\")\n",
    "print(B)\n",
    "# Se nella prossima stampa viene fuori un valore diverso da None, allora è una view\n",
    "print(\"Base:\")\n",
    "print(B.base)"
   ]
  },
  {
   "cell_type": "markdown",
   "id": "c77c2529-d680-42c9-9231-3aca724b1c12",
   "metadata": {},
   "source": [
    "**Esercizio 8** \n",
    "\n",
    "-     creare i due  numpy array 1d\n",
    "        f1= [ 0  1  2  3  4  5  6  7  8  9 10 11 12 13 14 15]  \n",
    "        f2= [16 17 18 19 20 21 22 23 24 25 26 27 28 29 30 31]\n",
    "-     \"vederli\" come matrici  4x4 ed effettuarne il prodotto scalare, memorizzando in f3 la matrice che nasce dal loro prodotto."
   ]
  },
  {
   "cell_type": "code",
   "execution_count": 9,
   "id": "1ff7d080-3e2a-4898-9bf4-0378b2dd5d0f",
   "metadata": {
    "tags": []
   },
   "outputs": [
    {
     "name": "stdout",
     "output_type": "stream",
     "text": [
      "Primo array (prima)\n",
      "[ 0  1  2  3  4  5  6  7  8  9 10 11 12 13 14 15]\n",
      "Primo array (dopo)\n",
      "[[ 0  1  2  3]\n",
      " [ 4  5  6  7]\n",
      " [ 8  9 10 11]\n",
      " [12 13 14 15]]\n",
      "Secondo array (prima)\n",
      "[16 17 18 19 20 21 22 23 24 25 26 27 28 29 30 31]\n",
      "Secondo array (dopo)\n",
      "[[16 17 18 19]\n",
      " [20 21 22 23]\n",
      " [24 25 26 27]\n",
      " [28 29 30 31]]\n",
      "Matrice finale\n",
      "[[ 152  158  164  170]\n",
      " [ 504  526  548  570]\n",
      " [ 856  894  932  970]\n",
      " [1208 1262 1316 1370]]\n"
     ]
    }
   ],
   "source": [
    "f1 = np.array([ 0, 1, 2,  3,  4,  5,  6,  7,  8,  9, 10, 11, 12, 13, 14, 15])\n",
    "print(\"Primo array (prima)\")\n",
    "print(f1)\n",
    "f1 = np.reshape(f1, (4,4))\n",
    "print(\"Primo array (dopo)\")\n",
    "print(f1)\n",
    "f2 = np.array([16, 17, 18, 19, 20, 21, 22, 23, 24, 25, 26, 27, 28, 29, 30, 31])\n",
    "print(\"Secondo array (prima)\")\n",
    "print(f2)\n",
    "f2 = np.reshape(f2, (4,4))\n",
    "print(\"Secondo array (dopo)\")\n",
    "print(f2)\n",
    "f3 = f1 @ f2\n",
    "print(\"Matrice finale\")\n",
    "print(f3)"
   ]
  },
  {
   "cell_type": "markdown",
   "id": "c9249961-c220-46c0-9e0d-e59dfefe662c",
   "metadata": {},
   "source": [
    "**Esercizio 9**    \n",
    "\n",
    " Costruire:\n",
    "-      Numpy Array A di shape (2,10) : array di valori random campionati da una distribuzione gaussiana con media 0 e varianza 1.\n",
    " -     Numpy array 1D B di shape (20,) formato dagli interi da 0 a 19.\n",
    " \n",
    " \"Vedere\" A come un array 1D di 20 elementi ed effettuare la somma di A+B\n",
    "\n"
   ]
  },
  {
   "cell_type": "code",
   "execution_count": 10,
   "id": "f12b3b82-918b-4595-9f8b-c6ed2c02b5b4",
   "metadata": {
    "tags": []
   },
   "outputs": [
    {
     "name": "stdout",
     "output_type": "stream",
     "text": [
      "Array di valori random campionati da una distribuzione normale standard:\n",
      "[[-0.92390591  0.90170478  0.20362128 -1.46513213 -0.18849422  0.70760236\n",
      "   0.08975425  0.8796574   1.4395049  -2.48371357]\n",
      " [ 0.80482091  0.34730547 -0.67870026  1.3988533   0.23096492  1.77374336\n",
      "   1.69645098  0.55382422 -0.84259161 -1.1635455 ]]\n",
      "Array di tutti i valori compresi fra 0 e 19\n",
      "[ 0  1  2  3  4  5  6  7  8  9 10 11 12 13 14 15 16 17 18 19]\n",
      "Array 2D trasformato in 1D:\n",
      "[-0.92390591  0.90170478  0.20362128 -1.46513213 -0.18849422  0.70760236\n",
      "  0.08975425  0.8796574   1.4395049  -2.48371357  0.80482091  0.34730547\n",
      " -0.67870026  1.3988533   0.23096492  1.77374336  1.69645098  0.55382422\n",
      " -0.84259161 -1.1635455 ]\n",
      "Somma fra i due array precedenti:\n",
      "[-0.92390591  1.90170478  2.20362128  1.53486787  3.81150578  5.70760236\n",
      "  6.08975425  7.8796574   9.4395049   6.51628643 10.80482091 11.34730547\n",
      " 11.32129974 14.3988533  14.23096492 16.77374336 17.69645098 17.55382422\n",
      " 17.15740839 17.8364545 ]\n"
     ]
    }
   ],
   "source": [
    "# RICORDA CHE UNA DISTRIBUZIONE GAUSSIANA SI CHIAMA ANCHE DISTRIBUZIONE NORMALE STANDARD:\n",
    "A = np.array(np.random.randn(2,10))\n",
    "print(\"Array di valori random campionati da una distribuzione normale standard:\")\n",
    "print(A)\n",
    "B = np.array(np.arange(0,20,1))\n",
    "print(\"Array di tutti i valori compresi fra 0 e 19\")\n",
    "print(B)\n",
    "\n",
    "# Procedo a fare il reshape di A, per farlo diventare un array 1D di 20 elementi:\n",
    "A.resize(20)\n",
    "print(\"Array 2D trasformato in 1D:\")\n",
    "print(A)\n",
    "\n",
    "# Procedo a fare la somma dei due array 1D:\n",
    "C = A + B\n",
    "print(\"Somma fra i due array precedenti:\")\n",
    "print(C)"
   ]
  },
  {
   "cell_type": "markdown",
   "id": "7f6cf29e-d14a-46c9-8f35-e66151a9e0a3",
   "metadata": {},
   "source": [
    "**Esercizio 10** \n",
    "-     Creare un array 2D di shape (5,5), denominato B2, con valori tutti uguali a 15.\n",
    "-     Creare una copia B3 di B2. Modificare l'elemento B3[0,0] assegnandogli il valore 150. \n",
    "-     Stampare il numpy array B2 ed il numpy array B3 e verificare che B2, dopo la modifica di B3, è rimasto inalterato"
   ]
  },
  {
   "cell_type": "code",
   "execution_count": 11,
   "id": "c11f1ecd-fda9-4ba0-9742-75fc89c688ff",
   "metadata": {
    "tags": []
   },
   "outputs": [
    {
     "name": "stdout",
     "output_type": "stream",
     "text": [
      "Array con tutti valori uguali a 15\n",
      "[[15 15 15 15 15]\n",
      " [15 15 15 15 15]\n",
      " [15 15 15 15 15]\n",
      " [15 15 15 15 15]\n",
      " [15 15 15 15 15]]\n",
      "Array originale dopo la modifica della copia:\n",
      "[[15 15 15 15 15]\n",
      " [15 15 15 15 15]\n",
      " [15 15 15 15 15]\n",
      " [15 15 15 15 15]\n",
      " [15 15 15 15 15]]\n",
      "Array copia di quello precedente:\n",
      "[[150  15  15  15  15]\n",
      " [ 15  15  15  15  15]\n",
      " [ 15  15  15  15  15]\n",
      " [ 15  15  15  15  15]\n",
      " [ 15  15  15  15  15]]\n"
     ]
    }
   ],
   "source": [
    "B2 = np.array(np.full((5,5),15))\n",
    "print(\"Array con tutti valori uguali a 15\")\n",
    "print(B2)\n",
    "B3 = B2.copy()\n",
    "B3[0][0] = 150\n",
    "print(\"Array originale dopo la modifica della copia:\")\n",
    "print(B2)\n",
    "print(\"Array copia di quello precedente:\")\n",
    "print(B3)"
   ]
  },
  {
   "cell_type": "markdown",
   "id": "22c456d1-2897-412c-99c1-e9b19cbab4e7",
   "metadata": {},
   "source": [
    "**Esercizio 11**   \n",
    "\n",
    "-     Costruire  un numpy array 1D, di shape (10,) denominato  f , costituito da 10 valori equidistanti nell'intervallo [0,1]\n",
    "-     aumentarne la dimensionalità, in maniera tale che abbia shape (10,1)"
   ]
  },
  {
   "cell_type": "code",
   "execution_count": 12,
   "id": "14406ed2-a31a-4639-817b-d33cfa225f5f",
   "metadata": {
    "tags": []
   },
   "outputs": [
    {
     "name": "stdout",
     "output_type": "stream",
     "text": [
      "Array di 10 valori equidistanti nell'intervallo 0-1:\n",
      "[0.         0.11111111 0.22222222 0.33333333 0.44444444 0.55555556\n",
      " 0.66666667 0.77777778 0.88888889 1.        ]\n",
      "Array dopo la modifica della dimensionalità:\n",
      "[[0.        ]\n",
      " [0.11111111]\n",
      " [0.22222222]\n",
      " [0.33333333]\n",
      " [0.44444444]\n",
      " [0.55555556]\n",
      " [0.66666667]\n",
      " [0.77777778]\n",
      " [0.88888889]\n",
      " [1.        ]]\n"
     ]
    }
   ],
   "source": [
    "f = np.array(np.linspace(0,1,10))\n",
    "print(\"Array di 10 valori equidistanti nell'intervallo 0-1:\")\n",
    "print(f)\n",
    "\n",
    "# Modifico la shape:\n",
    "f = np.reshape(f, (10,1))\n",
    "print(\"Array dopo la modifica della dimensionalità:\")\n",
    "print(f)"
   ]
  },
  {
   "cell_type": "markdown",
   "id": "2866db7c-cbcb-431e-bc6a-2645577a65e8",
   "metadata": {},
   "source": [
    "**Esercizio 12**\n",
    "-     Costruire i seguenti numpy array\n",
    "      a= np.array([14,13,12,11])\n",
    "      b=np.array([[4,3,2,1],[9,10,11,12]])\n",
    "\n",
    "  Costruire il numpy array che si ottiene concatenando a e b per righe"
   ]
  },
  {
   "cell_type": "code",
   "execution_count": 13,
   "id": "cfdf38ee-46ab-4d84-980a-41b5740b1248",
   "metadata": {
    "tags": []
   },
   "outputs": [
    {
     "name": "stdout",
     "output_type": "stream",
     "text": [
      "Primo array originale:\n",
      "[[14 13 12 11]\n",
      " [ 0  0  0  0]]\n",
      "Secondo array originale:\n",
      "[[ 4  3  2  1]\n",
      " [ 9 10 11 12]]\n",
      "Array finale generato come concatenamento delle righe degli array originali:\n",
      "[[14 13 12 11]\n",
      " [ 0  0  0  0]\n",
      " [ 4  3  2  1]\n",
      " [ 9 10 11 12]]\n"
     ]
    }
   ],
   "source": [
    "a = np.array([14,13,12,11])\n",
    "a.resize(2,4)\n",
    "b = np.array([[4,3,2,1],[9,10,11,12]])\n",
    "print(\"Primo array originale:\")\n",
    "print(a)\n",
    "print(\"Secondo array originale:\")\n",
    "print(b)\n",
    "\n",
    "# Per concatenare gli array per righe, devo usare il comando .concatenate():\n",
    "print(\"Array finale generato come concatenamento delle righe degli array originali:\")\n",
    "print(np.concatenate((a,b), axis = 0))"
   ]
  },
  {
   "cell_type": "markdown",
   "id": "d57c7290-27ce-4dce-a8e2-6b89124ed223",
   "metadata": {},
   "source": [
    "**Esercizio 13**\n",
    "-     Costruire i seguenti numpy array\n",
    "      a= np.array([14,13,12,11])\n",
    "      b=np.array([[4,3,2,1],[9,10,11,12],[4,3,2,1],[9,10,11,12]])\n",
    "- Costruire il numpy array che si ottiene concatenando a e b per colonne"
   ]
  },
  {
   "cell_type": "code",
   "execution_count": 14,
   "id": "7d45728f-55a4-4557-9e6c-8a4daee4fe5b",
   "metadata": {
    "tags": []
   },
   "outputs": [
    {
     "name": "stdout",
     "output_type": "stream",
     "text": [
      "Primo array originale:\n",
      "[[14]\n",
      " [13]\n",
      " [12]\n",
      " [11]]\n",
      "Secondo array originale:\n",
      "[[ 4  3  2  1]\n",
      " [ 9 10 11 12]\n",
      " [ 4  3  2  1]\n",
      " [ 9 10 11 12]]\n",
      "Array finale generato come concatenamento delle righe degli array originali:\n",
      "[[14  4  3  2  1]\n",
      " [13  9 10 11 12]\n",
      " [12  4  3  2  1]\n",
      " [11  9 10 11 12]]\n"
     ]
    }
   ],
   "source": [
    "a = np.array([14,13,12,11])\n",
    "a.resize(4,1)\n",
    "b = np.array([[4,3,2,1],[9,10,11,12],[4,3,2,1],[9,10,11,12]])\n",
    "print(\"Primo array originale:\")\n",
    "print(a)\n",
    "print(\"Secondo array originale:\")\n",
    "print(b)\n",
    "\n",
    "# Per concatenare gli array per righe, devo usare il comando .concatenate():\n",
    "print(\"Array finale generato come concatenamento delle righe degli array originali:\")\n",
    "print(np.concatenate((a,b), axis = 1))"
   ]
  },
  {
   "cell_type": "markdown",
   "id": "7c6eb421-0e1f-445b-b72f-7d2a2451fcb4",
   "metadata": {},
   "source": [
    "**Esercizio 14**\n",
    "\n",
    "Costruire, facendo uso di una sola riga di codice, la matrice A di ordine 10, che ha gli unici elementi diversi da zero, sulla diagonale princiaple, sulla codiagonale inferiore e sulla codiagonale superiore:\n",
    "- elementi diagonali $A_{i,i}=10 \\quad$, i=1,20\n",
    "- elementi nella codiagonale inferiore $A_{i-1,i}=-12, \\quad$ i=2,..,20, \n",
    "- elementi nella codiagonale superiore $A_{i,i+1}=-2 \\quad$ i=1,..,19"
   ]
  },
  {
   "cell_type": "code",
   "execution_count": 15,
   "id": "637c033e-30f4-44a8-872c-f7d097a8c64b",
   "metadata": {
    "tags": []
   },
   "outputs": [
    {
     "name": "stdout",
     "output_type": "stream",
     "text": [
      "[[ 10  -2   0   0   0   0   0   0   0   0]\n",
      " [-12  10  -2   0   0   0   0   0   0   0]\n",
      " [  0 -12  10  -2   0   0   0   0   0   0]\n",
      " [  0   0 -12  10  -2   0   0   0   0   0]\n",
      " [  0   0   0 -12  10  -2   0   0   0   0]\n",
      " [  0   0   0   0 -12  10  -2   0   0   0]\n",
      " [  0   0   0   0   0 -12  10  -2   0   0]\n",
      " [  0   0   0   0   0   0 -12  10  -2   0]\n",
      " [  0   0   0   0   0   0   0 -12  10  -2]\n",
      " [  0   0   0   0   0   0   0   0 -12  10]]\n"
     ]
    }
   ],
   "source": [
    "A = np.diag(np.tile([10], 10)) + np.diag(np.tile([-12], 9), k = -1) + np.diag(np.tile([-2], 9), k = 1)\n",
    "print(A)"
   ]
  },
  {
   "cell_type": "markdown",
   "id": "bae8a3dc-e71c-4ff4-8062-2d66c377d63f",
   "metadata": {},
   "source": [
    "**Esercizio 15**\n",
    "\n",
    "Costruire la matrice identità, denominata *I*,  della stessa dimensione di *A*"
   ]
  },
  {
   "cell_type": "code",
   "execution_count": 16,
   "id": "96558e42-2dcf-4c8d-a94f-0eff1c977d6d",
   "metadata": {
    "tags": []
   },
   "outputs": [
    {
     "name": "stdout",
     "output_type": "stream",
     "text": [
      "La matrice A è una matrice: 10 * 10\n",
      "Matrice identità della stessa dimensione di A:\n",
      "[[1. 0. 0. 0. 0. 0. 0. 0. 0. 0.]\n",
      " [0. 1. 0. 0. 0. 0. 0. 0. 0. 0.]\n",
      " [0. 0. 1. 0. 0. 0. 0. 0. 0. 0.]\n",
      " [0. 0. 0. 1. 0. 0. 0. 0. 0. 0.]\n",
      " [0. 0. 0. 0. 1. 0. 0. 0. 0. 0.]\n",
      " [0. 0. 0. 0. 0. 1. 0. 0. 0. 0.]\n",
      " [0. 0. 0. 0. 0. 0. 1. 0. 0. 0.]\n",
      " [0. 0. 0. 0. 0. 0. 0. 1. 0. 0.]\n",
      " [0. 0. 0. 0. 0. 0. 0. 0. 1. 0.]\n",
      " [0. 0. 0. 0. 0. 0. 0. 0. 0. 1.]]\n"
     ]
    }
   ],
   "source": [
    "dim1, dim2 = A.shape\n",
    "print(\"La matrice A è una matrice:\", dim1, \"*\", dim2)\n",
    "I = np.eye(dim1)\n",
    "print(\"Matrice identità della stessa dimensione di A:\")\n",
    "print(I)"
   ]
  },
  {
   "cell_type": "markdown",
   "id": "612458f4-d8f6-4015-ae74-042d73cbd9f9",
   "metadata": {},
   "source": [
    "**Esercizio 16**\n",
    "\n",
    "Facendo uso dell'operatore slicing *:* ,costruire la matrice AA selezionando dalla matrice A le righe che vanno dalla 2 alla 9 con step 2 e le colonne che vanno dalla 3 alla 6 con step 2.\n",
    "La matrice AA è una vista o una copia?\n"
   ]
  },
  {
   "cell_type": "code",
   "execution_count": 17,
   "id": "39560191-216a-4632-aab5-146b0c3b84fa",
   "metadata": {
    "tags": []
   },
   "outputs": [
    {
     "name": "stdout",
     "output_type": "stream",
     "text": [
      "Stampa della matrice ottenuta con l'operatore di slicing:\n",
      "[[ -2   0]\n",
      " [-12  -2]\n",
      " [  0 -12]\n",
      " [  0   0]]\n",
      "Stampa della base della matrice ottenuta:\n",
      "[[ 10  -2   0   0   0   0   0   0   0   0]\n",
      " [-12  10  -2   0   0   0   0   0   0   0]\n",
      " [  0 -12  10  -2   0   0   0   0   0   0]\n",
      " [  0   0 -12  10  -2   0   0   0   0   0]\n",
      " [  0   0   0 -12  10  -2   0   0   0   0]\n",
      " [  0   0   0   0 -12  10  -2   0   0   0]\n",
      " [  0   0   0   0   0 -12  10  -2   0   0]\n",
      " [  0   0   0   0   0   0 -12  10  -2   0]\n",
      " [  0   0   0   0   0   0   0 -12  10  -2]\n",
      " [  0   0   0   0   0   0   0   0 -12  10]]\n"
     ]
    }
   ],
   "source": [
    "AA = A[2:9:2, 3:6:2]\n",
    "print(\"Stampa della matrice ottenuta con l'operatore di slicing:\")\n",
    "print(AA)\n",
    "# Essendo che la base non è None, allora si tratta di una vista della matrice originale\n",
    "print(\"Stampa della base della matrice ottenuta:\")\n",
    "print(AA.base)"
   ]
  },
  {
   "cell_type": "markdown",
   "id": "db2a4f82-fe57-4763-bd58-9921869c671c",
   "metadata": {},
   "source": [
    "**Esercizio 17**\n",
    "\n",
    "Facendo uso dell'operatore slicing *:*, costruire la matrice A1 selezionando dalla matrice A le colonne che vanno dalla 1 alla 5 con step 2.  Trasforma la matrice A1 in una copia."
   ]
  },
  {
   "cell_type": "code",
   "execution_count": 18,
   "id": "6782b1a1-e875-4930-8fa6-48c98783b981",
   "metadata": {},
   "outputs": [
    {
     "name": "stdout",
     "output_type": "stream",
     "text": [
      "Stampa della matrice ottenuta con l'operatore di slicing:\n",
      "[[ -2   0]\n",
      " [-12  -2]\n",
      " [  0 -12]\n",
      " [  0   0]]\n",
      "Stampa della base della matrice ottenuta:\n",
      "None\n"
     ]
    }
   ],
   "source": [
    "import copy\n",
    "# Potevo anche usare il metodo .deepcopy():\n",
    "A1 = A[1:5:2].copy()\n",
    "print(\"Stampa della matrice ottenuta con l'operatore di slicing:\")\n",
    "print(AA)\n",
    "# Essendo che la base non è None, allora si tratta di una vista della matrice originale\n",
    "print(\"Stampa della base della matrice ottenuta:\")\n",
    "print(A1.base)"
   ]
  },
  {
   "cell_type": "markdown",
   "id": "f5a336bc-5cf9-4400-ae23-4be1f35521de",
   "metadata": {
    "tags": []
   },
   "source": [
    "**Esercizio 18**\n",
    "\n",
    "Costruisci due numpy array A e B di shape (5,5) \n",
    "   - A formata da numeri interi casuali  nell'intervallo [1,20]\n",
    "   - B formata da numeri interi casuali  nell'intervallo [1,6]\n",
    " \n",
    "  Costruisci con una sola riga di codice le seguenti matrici\n",
    "  \n",
    "  C=A+B   dove  $\\quad c_{ij}=a_{ij}+b_{ij} \\quad i=0,..,n, \\quad j=0,...,n$\n",
    "  \n",
    "  D=A-B   dove  $\\quad d_{ij}=a_{ij}-b_{ij} \\quad i=0,..,n, \\quad j=0,...,n$\n",
    "  \n",
    "  E=A*B   dove  $\\quad e_{ij}=a_{ij}*b_{ij} \\quad i=0,..,n, \\quad j=0,...,n$\n",
    "  \n",
    "  F=A\\B   dove  $\\quad f_{ij}=a_{ij}\\b_{ij} \\quad i=0,..,n, \\quad j=0,...,n$"
   ]
  },
  {
   "cell_type": "code",
   "execution_count": 19,
   "id": "21acb11a-fe27-442b-8c30-0347a4eae253",
   "metadata": {
    "tags": []
   },
   "outputs": [
    {
     "name": "stdout",
     "output_type": "stream",
     "text": [
      "Prima matrice:\n",
      "[[ 9 11 13  6 11]\n",
      " [19 19  8  8 14]\n",
      " [ 9  9 17  4  5]\n",
      " [15  8  6  2 15]\n",
      " [18 18  6 10 19]]\n",
      "Seconda matrice:\n",
      "[[1 4 5 4 3]\n",
      " [4 4 4 4 5]\n",
      " [3 4 3 1 4]\n",
      " [2 3 1 3 2]\n",
      " [3 2 3 4 4]]\n",
      "Somma matriciale:\n",
      "[[10 15 18 10 14]\n",
      " [23 23 12 12 19]\n",
      " [12 13 20  5  9]\n",
      " [17 11  7  5 17]\n",
      " [21 20  9 14 23]]\n",
      "Differenza matriciale:\n",
      "[[ 8  7  8  2  8]\n",
      " [15 15  4  4  9]\n",
      " [ 6  5 14  3  1]\n",
      " [13  5  5 -1 13]\n",
      " [15 16  3  6 15]]\n",
      "Prodotto matriciale:\n",
      "[[ 9 44 65 24 33]\n",
      " [76 76 32 32 70]\n",
      " [27 36 51  4 20]\n",
      " [30 24  6  6 30]\n",
      " [54 36 18 40 76]]\n",
      "Quoziente matriciale:\n",
      "[[9.         2.75       2.6        1.5        3.66666667]\n",
      " [4.75       4.75       2.         2.         2.8       ]\n",
      " [3.         2.25       5.66666667 4.         1.25      ]\n",
      " [7.5        2.66666667 6.         0.66666667 7.5       ]\n",
      " [6.         9.         2.         2.5        4.75      ]]\n"
     ]
    }
   ],
   "source": [
    "# Ricorda che randint() vuole come parametri: low, high, size(che può essere una shape)\n",
    "A = np.random.randint(1, 20, (5,5))\n",
    "print(\"Prima matrice:\")\n",
    "print(A)\n",
    "B = np.random.randint(1, 6, (5,5))\n",
    "print(\"Seconda matrice:\")\n",
    "print(B)\n",
    "\n",
    "# Somma delle matrici\n",
    "C = A + B\n",
    "print(\"Somma matriciale:\")\n",
    "print(C)\n",
    "\n",
    "# Differenza delle matrici\n",
    "D = A - B\n",
    "print(\"Differenza matriciale:\")\n",
    "print(D)\n",
    "\n",
    "# Prodotto delle matrici\n",
    "# si poteva anche fare semplicemente A * B (funzionava ugualmente)\n",
    "E = np.multiply(A, B)\n",
    "print(\"Prodotto matriciale:\")\n",
    "print(E)\n",
    "\n",
    "# Quoziente delle matrici\n",
    "# si poteva anche fare semplicemente A / B (funzionava ugualmente)\n",
    "F = np.divide(A, B)\n",
    "print(\"Quoziente matriciale:\")\n",
    "print(F)"
   ]
  },
  {
   "cell_type": "markdown",
   "id": "43fad425-0411-4471-962e-c79247aecb83",
   "metadata": {},
   "source": [
    "**Esercizio 19**\n",
    "\n",
    "Costruisci la matrice ottenuta facendo il prodotto scalare tra le  matrici A e B (righe per colonne)"
   ]
  },
  {
   "cell_type": "code",
   "execution_count": 20,
   "id": "6d9dc422-fc04-41e6-bc9a-ffdfd0d3061b",
   "metadata": {
    "tags": []
   },
   "outputs": [
    {
     "name": "stdout",
     "output_type": "stream",
     "text": [
      "Matrice ottenuta per prodotto scalare fra le due matrici A e B:\n",
      "[[137 172 167 155 190]\n",
      " [177 236 245 240 256]\n",
      " [119 162 151 121 168]\n",
      " [114 152 172 164 173]\n",
      " [185 236 247 256 264]]\n"
     ]
    }
   ],
   "source": [
    "# Si poteva anche utilizzare il metodo .dot()\n",
    "Prod_Scalare = A @ B\n",
    "print(\"Matrice ottenuta per prodotto scalare fra le due matrici A e B:\")\n",
    "print(Prod_Scalare)"
   ]
  },
  {
   "cell_type": "markdown",
   "id": "e6ae130a-1d6c-429b-ab62-718ff805d9bc",
   "metadata": {},
   "source": [
    "**Esercizio 20**\n",
    "\n",
    "Costruisci l'array ottenuto sommando gli elementi delle righe della matrice B usando l'appropriata funzione di Numpy."
   ]
  },
  {
   "cell_type": "code",
   "execution_count": 21,
   "id": "2d8fcf66-3a56-4734-b216-2fc0efc40660",
   "metadata": {
    "tags": []
   },
   "outputs": [
    {
     "name": "stdout",
     "output_type": "stream",
     "text": [
      "Matrice originaria B:\n",
      "[[1 4 5 4 3]\n",
      " [4 4 4 4 5]\n",
      " [3 4 3 1 4]\n",
      " [2 3 1 3 2]\n",
      " [3 2 3 4 4]]\n",
      "Array ottenuto per somma delle righe di B:\n",
      "[13 17 16 16 18]\n"
     ]
    }
   ],
   "source": [
    "print(\"Matrice originaria B:\")\n",
    "print(B)\n",
    "Somma_righe = np.sum(B, axis = 0)\n",
    "print(\"Array ottenuto per somma delle righe di B:\")\n",
    "print(Somma_righe)"
   ]
  },
  {
   "cell_type": "markdown",
   "id": "4cb04c63-c9c6-41a8-8e62-bc4497a4251b",
   "metadata": {},
   "source": [
    "**Esercizio 21** \n",
    "\n",
    "Costruisci l'array ottenuto sommando gli elementi delle colonne della matrice B usando l'appropriata funzione di Numpy."
   ]
  },
  {
   "cell_type": "code",
   "execution_count": 22,
   "id": "9410db37-3073-4290-bdca-dff3cdaa6d7e",
   "metadata": {
    "tags": []
   },
   "outputs": [
    {
     "name": "stdout",
     "output_type": "stream",
     "text": [
      "Matrice originaria B:\n",
      "[[1 4 5 4 3]\n",
      " [4 4 4 4 5]\n",
      " [3 4 3 1 4]\n",
      " [2 3 1 3 2]\n",
      " [3 2 3 4 4]]\n",
      "Array ottenuto per somma delle colonne di B:\n",
      "[17 21 15 11 16]\n"
     ]
    }
   ],
   "source": [
    "print(\"Matrice originaria B:\")\n",
    "print(B)\n",
    "Somma_righe = np.sum(np.copy(B), axis = 1)\n",
    "print(\"Array ottenuto per somma delle colonne di B:\")\n",
    "print(Somma_righe)"
   ]
  },
  {
   "cell_type": "markdown",
   "id": "5715d0db-b005-4256-86a0-4a94a46fdd96",
   "metadata": {},
   "source": [
    "**Esercizio 22** \n",
    "\n",
    "Somma tutti gli elementi di B usando l'appropriata funzione di Numpy."
   ]
  },
  {
   "cell_type": "code",
   "execution_count": 23,
   "id": "3a845463-48a2-4697-9560-ba459012bd42",
   "metadata": {
    "tags": []
   },
   "outputs": [
    {
     "name": "stdout",
     "output_type": "stream",
     "text": [
      "Matrice originaria B:\n",
      "[[1 4 5 4 3]\n",
      " [4 4 4 4 5]\n",
      " [3 4 3 1 4]\n",
      " [2 3 1 3 2]\n",
      " [3 2 3 4 4]]\n",
      "Somma di tutti i valori presenti in B:\n",
      "80\n"
     ]
    }
   ],
   "source": [
    "print(\"Matrice originaria B:\")\n",
    "print(B)\n",
    "Somma_righe = np.sum(np.copy(B))\n",
    "print(\"Somma di tutti i valori presenti in B:\")\n",
    "print(Somma_righe)"
   ]
  },
  {
   "cell_type": "markdown",
   "id": "337c76cc-d82b-4bbb-a57c-52080a6aa9cb",
   "metadata": {},
   "source": [
    "**Esercizio 23**\n",
    "\n",
    "Calcolare il minimo degli elementi di B, tra le righe, tra le colonne, il minimo di tutta la matrice B"
   ]
  },
  {
   "cell_type": "code",
   "execution_count": 24,
   "id": "fbbead58-ca4d-4206-af90-1f0953aa0944",
   "metadata": {},
   "outputs": [
    {
     "name": "stdout",
     "output_type": "stream",
     "text": [
      "Matrice di partenza B:\n",
      "[[1 4 5 4 3]\n",
      " [4 4 4 4 5]\n",
      " [3 4 3 1 4]\n",
      " [2 3 1 3 2]\n",
      " [3 2 3 4 4]]\n",
      "[1 2 1 1 2]\n",
      "[1 4 1 1 2]\n",
      "1\n"
     ]
    }
   ],
   "source": [
    "# Utilizzo il metodo .min per determinare il minimo (si può specificare l'asse)\n",
    "print(\"Matrice di partenza B:\")\n",
    "print(B)\n",
    "print(np.min(B, axis = 0))    # Lungo le righe\n",
    "print(np.min(B, axis = 1))    # Lungo le colonne\n",
    "print(np.min(B))              # Di tutta la matrice"
   ]
  },
  {
   "cell_type": "markdown",
   "id": "30bc84d9-f2ff-42aa-95ee-b10d69e50762",
   "metadata": {},
   "source": [
    "**Esercizio 24**\n",
    "\n",
    "Calcola e memorizza in un vettore la somma degli elementi di ogni colonna di $ |B |$. Calcola successivamente il massimo di questo vettore.\n",
    "$maxsc= \\max_{j=1,n} \\sum_{i} |b_{ij}|$"
   ]
  },
  {
   "cell_type": "code",
   "execution_count": 25,
   "id": "16957038-280c-4979-ba1c-1dfef06802d9",
   "metadata": {},
   "outputs": [
    {
     "name": "stdout",
     "output_type": "stream",
     "text": [
      "Il vettore di partenza è:\n",
      "[[1 4 5 4 3]\n",
      " [4 4 4 4 5]\n",
      " [3 4 3 1 4]\n",
      " [2 3 1 3 2]\n",
      " [3 2 3 4 4]]\n",
      "Vettore contenete la somma degli elementi di ogni colonna:\n",
      "[17 21 15 11 16]\n",
      "Il massimo del vettore contenente tutte le somme è:\n",
      "21\n"
     ]
    }
   ],
   "source": [
    "VettoreSomma = np.sum(B, axis = 1)\n",
    "print(\"Il vettore di partenza è:\")\n",
    "print(B)\n",
    "print(\"Vettore contenete la somma degli elementi di ogni colonna:\")\n",
    "print(VettoreSomma)\n",
    "print(\"Il massimo del vettore contenente tutte le somme è:\")\n",
    "print(np.max(VettoreSomma))"
   ]
  },
  {
   "cell_type": "markdown",
   "id": "7763e180-a6f1-41d3-9af7-4fb92bacd72d",
   "metadata": {},
   "source": [
    "**Esercizio 25**\n",
    "Calcola, memorizzando in un vettore, la somma degli elementi di ogni riga  di $ |B |$. Calcola successivamente il massimo di questo vettore.\n",
    "$maxsr= \\max_{i=1,n} \\sum_{j} |b_{ij}|$"
   ]
  },
  {
   "cell_type": "code",
   "execution_count": 26,
   "id": "1cb7c60f-4719-4aac-b580-c20bc1ac96ce",
   "metadata": {},
   "outputs": [
    {
     "name": "stdout",
     "output_type": "stream",
     "text": [
      "Il vettore di partenza è:\n",
      "[[1 4 5 4 3]\n",
      " [4 4 4 4 5]\n",
      " [3 4 3 1 4]\n",
      " [2 3 1 3 2]\n",
      " [3 2 3 4 4]]\n",
      "Vettore contenete la somma degli elementi di ogni colonna:\n",
      "[13 17 16 16 18]\n",
      "Il massimo del vettore contenente tutte le somme è:\n",
      "18\n"
     ]
    }
   ],
   "source": [
    "VettoreSomma2 = np.sum(B, axis = 0)\n",
    "print(\"Il vettore di partenza è:\")\n",
    "print(B)\n",
    "print(\"Vettore contenete la somma degli elementi di ogni colonna:\")\n",
    "print(VettoreSomma2)\n",
    "print(\"Il massimo del vettore contenente tutte le somme è:\")\n",
    "print(np.max(VettoreSomma2))"
   ]
  },
  {
   "cell_type": "markdown",
   "id": "89a136bb-2e23-4fca-9717-d32434f5f5ce",
   "metadata": {},
   "source": [
    "**Esercizio 26**\n",
    "\n",
    "Effettua nella matrice B lo scambio tra la  riga 2 e  la riga 3"
   ]
  },
  {
   "cell_type": "code",
   "execution_count": 27,
   "id": "add197a2-3ca5-416e-b54e-cb70de39f963",
   "metadata": {},
   "outputs": [
    {
     "name": "stdout",
     "output_type": "stream",
     "text": [
      "Matrice originale B:\n",
      "[[1 4 5 4 3]\n",
      " [4 4 4 4 5]\n",
      " [3 4 3 1 4]\n",
      " [2 3 1 3 2]\n",
      " [3 2 3 4 4]]\n",
      "Cosa c'è in temp:\n",
      "[3 4 3 1 4]\n",
      "Cosa c'è in B[2]:\n",
      "[2 3 1 3 2]\n",
      "Cosa c'è in B[3]:\n",
      "[3 4 3 1 4]\n",
      "Matrice B dopo la modifica:\n",
      "[[1 4 5 4 3]\n",
      " [4 4 4 4 5]\n",
      " [2 3 1 3 2]\n",
      " [3 4 3 1 4]\n",
      " [3 2 3 4 4]]\n"
     ]
    }
   ],
   "source": [
    "print(\"Matrice originale B:\")\n",
    "print(B)\n",
    "# Il metodo .copy() crea delle copie profonde (deepcopy)\n",
    "temp = np.copy(B[2])\n",
    "B[2] = np.copy(B[3])\n",
    "B[3] = np.copy(temp)\n",
    "print(\"Cosa c'è in temp:\")\n",
    "print(temp)\n",
    "print(\"Cosa c'è in B[2]:\")\n",
    "print(B[2])\n",
    "print(\"Cosa c'è in B[3]:\")\n",
    "print(B[3])\n",
    "print(\"Matrice B dopo la modifica:\")\n",
    "print(B)"
   ]
  },
  {
   "cell_type": "markdown",
   "id": "5a00eaef-f14c-49f9-b9d1-c8ad90627935",
   "metadata": {},
   "source": [
    "**Esercizio 27**\n",
    "\n",
    "Calcola il valore massimo della colonna 0-esima della matrice B e l'indice di riga a cui appartiene"
   ]
  },
  {
   "cell_type": "code",
   "execution_count": 28,
   "id": "0913c725-ce74-47fa-bd2d-514d00f8945b",
   "metadata": {},
   "outputs": [
    {
     "name": "stdout",
     "output_type": "stream",
     "text": [
      "Matrice originale B:\n",
      "[[1 4 5 4 3]\n",
      " [4 4 4 4 5]\n",
      " [2 3 1 3 2]\n",
      " [3 4 3 1 4]\n",
      " [3 2 3 4 4]]\n",
      "Il massimo della colonna 0 è:\n",
      "4\n",
      "L'indice del valore massimo è:\n",
      "1\n",
      "Matrice B dopo il calcolo:\n",
      "[[1 4 5 4 3]\n",
      " [4 4 4 4 5]\n",
      " [2 3 1 3 2]\n",
      " [3 4 3 1 4]\n",
      " [3 2 3 4 4]]\n"
     ]
    }
   ],
   "source": [
    "print(\"Matrice originale B:\")\n",
    "print(B)\n",
    "print(\"Il massimo della colonna 0 è:\")\n",
    "print(np.max(B[:,0]))\n",
    "print(\"L'indice del valore massimo è:\")\n",
    "print(np.argmax(B[:,0]))\n",
    "print(\"Matrice B dopo il calcolo:\")\n",
    "print(B)"
   ]
  },
  {
   "cell_type": "markdown",
   "id": "12be327e-41a9-4700-82b2-f78709585ce3",
   "metadata": {},
   "source": [
    "**Esercizio 28**   \n",
    "\n",
    "\n",
    "Scrivi una funzione border(m,n,visualizza=False) che:\n",
    "-      crea un array 2D di shape(m,n) che abbia tutti valori nulli\n",
    "-     imposta ad 1  i valori degli elementi sul bordo dell'array (prima ed ultima riga, prima e l'ultima colonna)\n",
    "-      Preveda un argomento di default che se impostato a True visualizza la matrice"
   ]
  },
  {
   "cell_type": "code",
   "execution_count": 29,
   "id": "525128fe-5af6-49af-a3b7-5cc0b14a6786",
   "metadata": {},
   "outputs": [],
   "source": [
    "def border(m,n, visualizza = False):\n",
    "    array = np.zeros((m,n))\n",
    "    if visualizza == True:\n",
    "        print(\"Array di partenza\")\n",
    "        print(array)\n",
    "    array[0:m:m-1, 0:n] = 1\n",
    "    array[0:m, 0:n:n-1] = 1\n",
    "    if visualizza == True:\n",
    "        print(\"Array dopo le modifiche\")\n",
    "        print(array)"
   ]
  },
  {
   "cell_type": "code",
   "execution_count": 30,
   "id": "2d218a28-cff5-4dc4-ac1a-00a2c96a8980",
   "metadata": {
    "tags": []
   },
   "outputs": [
    {
     "name": "stdout",
     "output_type": "stream",
     "text": [
      "Array di partenza\n",
      "[[0. 0. 0. 0. 0. 0.]\n",
      " [0. 0. 0. 0. 0. 0.]\n",
      " [0. 0. 0. 0. 0. 0.]\n",
      " [0. 0. 0. 0. 0. 0.]\n",
      " [0. 0. 0. 0. 0. 0.]\n",
      " [0. 0. 0. 0. 0. 0.]]\n",
      "Array dopo le modifiche\n",
      "[[1. 1. 1. 1. 1. 1.]\n",
      " [1. 0. 0. 0. 0. 1.]\n",
      " [1. 0. 0. 0. 0. 1.]\n",
      " [1. 0. 0. 0. 0. 1.]\n",
      " [1. 0. 0. 0. 0. 1.]\n",
      " [1. 1. 1. 1. 1. 1.]]\n"
     ]
    }
   ],
   "source": [
    "border(6,6, visualizza = True)"
   ]
  },
  {
   "cell_type": "markdown",
   "id": "20e88028-91cf-4f99-90b9-5d2f8148b3a9",
   "metadata": {},
   "source": [
    "**Esercizio 29**\n",
    "\n",
    "Scrivi una funzione `visualizza(f,a,b)`che prende in input una lambda function f, gli estremi dell'intervallo [a,b] su cui è definita e la visualizzi in una finestra grafica\n",
    "\n",
    "Chaima la funzione passandogli la funzione f(x)=sin(2*$\\pi$*x), [a,b]=[0,2*$\\pi$]"
   ]
  },
  {
   "cell_type": "code",
   "execution_count": 31,
   "id": "e87530a0-773d-44e2-802f-b6027e5cdab5",
   "metadata": {},
   "outputs": [
    {
     "data": {
      "image/png": "[encoded data removed]",
      "text/plain": [
       "<Figure size 640x480 with 1 Axes>"
      ]
     },
     "metadata": {},
     "output_type": "display_data"
    }
   ],
   "source": [
    "import matplotlib.pyplot as plt \n",
    "import math\n",
    "\n",
    "def visualizza(f,a,b):\n",
    "    x = np.linspace(a,b,10000)\n",
    "    y = f(x)\n",
    "    plt.plot(x, y, 'r-')\n",
    "    plt.show()\n",
    "    \n",
    "visualizza(lambda x: np.sin(2*np.pi*x),0,2*np.pi)    "
   ]
  },
  {
   "cell_type": "markdown",
   "id": "c4e0b8d0-b590-4554-9954-7333715b3c63",
   "metadata": {},
   "source": [
    "**Esercizio 30**\n",
    "\n",
    "Scrivi una funzione `visualizza2(f,a,b,f2,a2,b2)`che prende in input una lambda function f e gli estremi dell'intervallo [a,b]  su cui è definita, una lambda function f2 e gli estremi dell'intervallo su cui è definita [a2,b2] e le visualizzi sulla stessa finestra grafica.\n",
    "\n",
    "Chaima la funzione passandogli  una funzione f(x) quadratica ed una funzione f2(x) exponenziale ed [a,b]=[0,2]"
   ]
  },
  {
   "cell_type": "code",
   "execution_count": 32,
   "id": "e67b133d-b095-44ad-a8c5-bcda330bacca",
   "metadata": {},
   "outputs": [
    {
     "data": {
      "image/png": "[encoded data removed]",
      "text/plain": [
       "<Figure size 640x480 with 1 Axes>"
      ]
     },
     "metadata": {},
     "output_type": "display_data"
    }
   ],
   "source": [
    "def visualizza2(f,a,b,f2,a2,b2):\n",
    "    x = np.linspace(a,b,10000)\n",
    "    x2 = np.linspace(a2,b2,10000)\n",
    "    y = f(x)\n",
    "    y2 = f2(x2)\n",
    "    plt.plot(x, y, 'r-')\n",
    "    plt.plot(x2,y2, 'b-')\n",
    "    plt.show()\n",
    "    \n",
    "visualizza2(lambda x: x**2+1, 0, 2, lambda x2: x2**3+2*x2+1, 0, 2)"
   ]
  }
 ],
 "metadata": {
  "kernelspec": {
   "display_name": "Python 3 (ipykernel)",
   "language": "python",
   "name": "python3"
  },
  "language_info": {
   "codemirror_mode": {
    "name": "ipython",
    "version": 3
   },
   "file_extension": ".py",
   "mimetype": "text/x-python",
   "name": "python",
   "nbconvert_exporter": "python",
   "pygments_lexer": "ipython3",
   "version": "3.11.5"
  }
 },
 "nbformat": 4,
 "nbformat_minor": 5
}
