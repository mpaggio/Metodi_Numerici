{
 "cells": [
  {
   "cell_type": "markdown",
   "id": "b97be3ab-d6dd-495f-a342-e5e837cfb8bc",
   "metadata": {},
   "source": [
    "#                       Esercitazione 4 - 12 Marzo 2023"
   ]
  },
  {
   "cell_type": "markdown",
   "id": "8c87694a-727f-410f-a307-3f35f0dcc933",
   "metadata": {},
   "source": [
    "Esplorate le caratteristiche dell'insieme dei numeri di macchina F($\\beta$,t,L,U) sul vostro calcolatore utilizzando il comando sys.float_info, dopo aver importato im modulo sys:\n",
    "\n",
    "import sys\n",
    "\n",
    "print(sys.float_info)"
   ]
  },
  {
   "cell_type": "code",
   "execution_count": 2,
   "id": "41befe1d-4b51-40b3-a8bc-db8b2d2b886e",
   "metadata": {
    "tags": []
   },
   "outputs": [
    {
     "name": "stdout",
     "output_type": "stream",
     "text": [
      "sys.float_info(max=1.7976931348623157e+308, max_exp=1024, max_10_exp=308, min=2.2250738585072014e-308, min_exp=-1021, min_10_exp=-307, dig=15, mant_dig=53, epsilon=2.220446049250313e-16, radix=2, rounds=1)\n"
     ]
    }
   ],
   "source": [
    "import sys\n",
    "print(sys.float_info)"
   ]
  },
  {
   "cell_type": "markdown",
   "id": "82c24c2e-15d3-4e96-8436-8a2c4b01011b",
   "metadata": {},
   "source": [
    "min_exp=-1021   (L=-1021-1=-1022)\n",
    "\n",
    "max_exp=1024    (U=1024-1=1023)\n",
    "\n",
    "mant_dig=53 (incluso l'hidden bit)\n",
    "\n",
    "dig=15, significa che i numeri \"float\" vengono convertiti in stringhe con un massimo di 15 cifre decimali. Le cifre decimali oltre la quindicesima vengono eliminate (troncate). (solo a livello di stringa visualizzata)"
   ]
  },
  {
   "cell_type": "markdown",
   "id": "224ac7e6-31df-4f15-8ffc-9c82bd21c82e",
   "metadata": {},
   "source": [
    "- **1.**  Calcolare lo spacing in  $[2^{52}, 2^{53}]$.\n",
    "    - Sia $x=2^{52}$ individuare il numero successivo a $2^{52}$ ed assegnarlo ad una variabile  y.\n",
    "    - Cosa succede se consideriamo il valore z=x+0.5?\n",
    "    - Cosa succede se consideriamo il valore q=y+0.5?\n",
    "  "
   ]
  },
  {
   "cell_type": "code",
   "execution_count": 3,
   "id": "c9134274-3ce3-42db-83d8-2de78edb8f43",
   "metadata": {
    "tags": []
   },
   "outputs": [
    {
     "name": "stdout",
     "output_type": "stream",
     "text": [
      "Lo spacing vale:  1.0\n",
      "x =  4503599627370496.0\n",
      "y =  4503599627370501.0\n",
      "z =  4503599627370496.0\n",
      "q =  4503599627370502.0\n"
     ]
    }
   ],
   "source": [
    "# Dimensioni dell'insieme dei numeri Floating Point:\n",
    "beta = 2.0\n",
    "p = 52\n",
    "t = 53\n",
    "\n",
    "# Calcolo dello spacing:\n",
    "s = beta**(p+1-t)\n",
    "print(\"Lo spacing vale: \", s)\n",
    "\n",
    "# Testing:\n",
    "## 1:\n",
    "x = 2.0**52\n",
    "y = x + 5\n",
    "print(\"x = \", x)\n",
    "print(\"y = \", y)\n",
    "\n",
    "## 2:\n",
    "### (se ad un numero sommiamo un valore che è più piccolo dello spacing, il valore non sente variazioni, non viene toccato)\n",
    "z = x + 0.5            # --> 0.5 minore dello spacing (s = 1.0)\n",
    "print(\"z = \",z)\n",
    "\n",
    "## 3:\n",
    "### (in questo caso il risultato è tale a causa del rounding to even, come approssimazione)\n",
    "q = y + 0.5\n",
    "print(\"q = \",q)\n"
   ]
  },
  {
   "cell_type": "markdown",
   "id": "c73d1758-eb82-48af-8618-6dfb522dcdd6",
   "metadata": {},
   "source": [
    "- **2** Calcolare la cardinalità dell'insieme dei numeri finiti di Python"
   ]
  },
  {
   "cell_type": "code",
   "execution_count": 4,
   "id": "eea76612-58e6-4674-9df7-13392e4c9177",
   "metadata": {
    "tags": []
   },
   "outputs": [
    {
     "name": "stdout",
     "output_type": "stream",
     "text": [
      "Cardinalità di F =  18428729675200069633\n"
     ]
    }
   ],
   "source": [
    "beta = 2\n",
    "t = 53\n",
    "L = sys.float_info.min_exp\n",
    "U = sys.float_info.max_exp \n",
    "CardF = (2*(beta-1)*(beta**(t-1))*(U-L+1)) + 1\n",
    "print(\"Cardinalità di F = \",CardF)\n"
   ]
  },
  {
   "cell_type": "markdown",
   "id": "cee853bd-aca6-47f4-980f-7e44473f7523",
   "metadata": {},
   "source": [
    "- **3**  Verificare numericamente che $\\texttt{eps} = 2^{-52}$, spacing nell'intervallo $[1, 2]$,\n",
    "è il piu' piccolo $x$ tale che $fl(1 + x)$ è  diverso da $1$. \n"
   ]
  },
  {
   "cell_type": "code",
   "execution_count": 5,
   "id": "8db33a11-059a-4047-bd9a-a35a3a8a219b",
   "metadata": {
    "tags": []
   },
   "outputs": [
    {
     "name": "stdout",
     "output_type": "stream",
     "text": [
      "Spacing in [1,2] 2.220446049250313e-16\n",
      "Eps =  2.220446049250313e-16\n",
      "y =  1.0000000000000002\n",
      "y1 =  1.0\n"
     ]
    }
   ],
   "source": [
    "p = 0\n",
    "s = beta**(p+1-t)\n",
    "print(\"Spacing in [1,2]\",s)\n",
    "print(\"Eps = \", 2**(-52))\n",
    "y = 1+s                         # --> sto prendendo il valore macchina successivo all'estremo inferiore (1)\n",
    "print(\"y = \",y)\n",
    "y1 = 1+s/2                      # --> provo a prendere il valore ottenuto sommando l'estremo inferiore (1) con la metà dello spacing\n",
    "print(\"y1 = \",y1)\n",
    "\n",
    "# Essendo y1 uguale a zero, ho dimostrato che eps è il minimo x affinchè, fl(1+x) != 1   -->   perchè con x = eps/2, fl(...) = 1"
   ]
  },
  {
   "cell_type": "markdown",
   "id": "35d7206c-f742-4616-b92c-91b37127a4d3",
   "metadata": {},
   "source": [
    "- **4** Costruire un numpy array costituito da n=10 valori tutti uguali a 0.1\n",
    "-     Effettuate la somma utilizzando un ciclo for.\n",
    "-     Effettuate la somma effettuando la somma con la funzione sum del modulo numpy.\n",
    "  Cosa osservate? Cercate di giustificare i risultati "
   ]
  },
  {
   "cell_type": "code",
   "execution_count": 6,
   "id": "59e87413-139d-4642-ba03-1ad25aaee818",
   "metadata": {
    "tags": []
   },
   "outputs": [
    {
     "name": "stdout",
     "output_type": "stream",
     "text": [
      "Array generato:  [0.1 0.1 0.1 0.1 0.1 0.1 0.1 0.1 0.1 0.1]\n",
      "La somma ottenuta mediante il ciclo for vale:  0.9999999999999999\n",
      "La somma ottenuta mediante la funzione sum di numpy vale:  1.0\n"
     ]
    }
   ],
   "source": [
    "import numpy as np\n",
    "array = np.full(10, 0.1)\n",
    "print(\"Array generato: \", array)\n",
    "\n",
    "# Effettuo la somma:\n",
    "## Utilizzando il ciclo for:\n",
    "somma = 0\n",
    "for val in array:\n",
    "    somma = somma + val\n",
    "print(\"La somma ottenuta mediante il ciclo for vale: \", somma)\n",
    "\n",
    "## Utilizzando la funzione sum di numpy:\n",
    "somma = np.sum(array)\n",
    "print(\"La somma ottenuta mediante la funzione sum di numpy vale: \", somma)\n",
    "\n",
    "\n",
    "# SPIEGAZIONE DEL RISULTATO ERRATO OTTENUTO:\n",
    "## Il calcolatore non lavora in base 10, ma in base 2, quindi bisogna scoprire come si rappresenta il valore 0.1 in base 2\n",
    "# SISTEMA DELLE MOLTIPLICAZIONI SUCCESSIVE:\n",
    "## Si riprende la parte decimale che viene fuori dal calcolo\n",
    "## 0.1 * 2 = 0.2 --> valore * base\n",
    "## 0.2 * 2 = 0.4\n",
    "## 0.4 * 2 = 0.8\n",
    "## 0.8 * 2 = 1.6\n",
    "## 0.6 * 2 = 1.2\n",
    "## 0.2 * 2 = 0.4\n",
    "## ... via via si ripete, segue un pattern preciso ...\n",
    "## Rappresenta il numero in base 2 --> 0.0001100110011001100...\n",
    "## Per troncamenti e arrotondamenti, la somma darà ogni tanto dei valori leggermente sballato."
   ]
  },
  {
   "cell_type": "markdown",
   "id": "d19cd104-d1ea-4444-996c-0a9672063450",
   "metadata": {},
   "source": [
    "- **5.** Siano $a=1.234567890123400 e+15$, $b=-1.234567890123401 e+15$, $c=0.06$. \n",
    "  Calcolare $(a+b)+c$, $(a+c)+b$, $a+(b+c)$. Che cosa si osserva? Ripetere l'esercizio con $a=0.23371258 e-4$, $b=0.33678429 e+2$, $c=-0.33677911 e+2$."
   ]
  },
  {
   "cell_type": "code",
   "execution_count": 7,
   "id": "dc0d162d-9e51-4920-abae-3a189a667650",
   "metadata": {
    "tags": []
   },
   "outputs": [
    {
     "name": "stdout",
     "output_type": "stream",
     "text": [
      "Valore delle tre operazioni:\n",
      "(𝑎+𝑏)+𝑐 =  -0.94\n",
      "(𝑎+c)+b =  -1.0\n",
      "a+(b+c) =  -1.0\n",
      "Valore delle tre operazioni:\n",
      "(𝑎+𝑏)+𝑐 =  0.0005413712580022434\n",
      "(𝑎+c)+b =  0.0005413712580022434\n",
      "a+(b+c) =  0.0005413712579995743\n"
     ]
    }
   ],
   "source": [
    "# Test 1:\n",
    "## a e b sono valori che in modulo sono molto vicini l'uno all'altro, ma sono di segno opposto (quindi causano un grosso aumento dei FATTORI DI AMPLIFICAZIONE)\n",
    "## per le altre coppie di associazioni che si possono fare invece il problema non si pone, perchè sono valori distanti in modulo\n",
    "a = 1.234567890123400e+15   # --> compreso nell'intervallo 2^50 e 2^51, dove lo spacing vale 0.25 (quindi se sommo qualcosa di più piccolo, il risultato non viene influenzato)\n",
    "b = -1.234567890123401e+15\n",
    "c = 0.06                    # --> non ha effetto se lo sommo ad a o a b, perchè superiore allo spacing\n",
    "ab = (𝑎+𝑏)+𝑐\n",
    "ac = (𝑎+𝑐)+𝑏\n",
    "bc = a+(b+c)\n",
    "print(\"Valore delle tre operazioni:\")\n",
    "print(\"(𝑎+𝑏)+𝑐 = \", ab)     # --> risultato più giusto\n",
    "print(\"(𝑎+c)+b = \", ac)     # --> è come fare a+b\n",
    "print(\"a+(b+c) = \", bc)     # --> è come fare a+b\n",
    "\n",
    "# Test 2:\n",
    "## b e c sono valori che in modulo sono molto vicini l'uno all'altro, ma sono di segno opposto (quindi causano un grosso aumento dei FATTORI DI AMPLIFICAZIONE)\n",
    "## per le altre coppie di associazioni che si possono fare invece il problema non si pone, perchè sono valori distanti in modulo\n",
    "a = 0.23371258e-4\n",
    "b = 0.33678429e+2\n",
    "c = -0.33677911e+2\n",
    "ab = (𝑎+𝑏)+𝑐\n",
    "ac = (𝑎+𝑐)+𝑏\n",
    "bc = a+(b+c)\n",
    "print(\"Valore delle tre operazioni:\")\n",
    "print(\"(𝑎+𝑏)+𝑐 = \", ab)     # --> è come fare b+c\n",
    "print(\"(𝑎+c)+b = \", ac)     # --> è come fare b+c\n",
    "print(\"a+(b+c) = \", bc)     # --> risultato più giusto"
   ]
  },
  {
   "cell_type": "markdown",
   "id": "960d25c1-9677-4b1e-92c1-c16870d520b6",
   "metadata": {},
   "source": [
    "- **6.** Si considerino le espressioni $y_1=\\sqrt{x^2+1}-x$ e $y_2=\\frac{1}{\\sqrt{x^2+1}+x}$. Calcolare il valore di $y_1$ e $y_2$ per $x=7777$ e $x=77777777$. Che cosa si osserva? Commentare i risultati ottenuti."
   ]
  },
  {
   "cell_type": "code",
   "execution_count": 8,
   "id": "33bf81c3-13bb-41f9-9753-c5c75f87a798",
   "metadata": {
    "tags": []
   },
   "outputs": [
    {
     "name": "stdout",
     "output_type": "stream",
     "text": [
      "y1 =  6.429214317904552e-05\n",
      "y2 =  6.429214323431402e-05\n",
      "Errore relativo =  8.596461472920769e-08 %\n",
      "y1 =  0.0\n",
      "y2 =  6.428571492857143e-09\n",
      "Errore relativo =  100.0 %\n"
     ]
    }
   ],
   "source": [
    "# L'operazione di sottrazione è un'operazione pericolosa per alcuni valori di x !!!\n",
    "# y2 rappresenta la funzione y1, senza che sia pericolosa per l'operazioe differenza\n",
    "## y2 è la funzione safe (reale, per modo di dire)\n",
    "## y1 è la funzione macchina con gli errori\n",
    "\n",
    "## Definizione delle funzioni da richiamare:\n",
    "### math.sqrt() genera degli errori di cancellazione\n",
    "radix = lambda x: np.sqrt(x**2+1)\n",
    "\n",
    "# TEST 1:\n",
    "x = 7777\n",
    "y1 = radix(x)-x\n",
    "y2 = 1/(radix(x)+x)\n",
    "print(\"y1 = \", y1)\n",
    "print(\"y2 = \", y2)\n",
    "print(\"Errore relativo = \", 100*abs((y2 - y1)/y2), \"%\")\n",
    "\n",
    "# TEST 2:\n",
    "x = 77777777\n",
    "y1 = radix(x)-x\n",
    "y2 = 1/(radix(x)+x)\n",
    "print(\"y1 = \", y1)\n",
    "print(\"y2 = \", y2)\n",
    "print(\"Errore relativo = \", 100*abs((y2 - y1)/y2), \"%\")"
   ]
  },
  {
   "cell_type": "markdown",
   "id": "e3d8c3b3-d514-41ec-a6f2-eb22311ab157",
   "metadata": {},
   "source": [
    "- **7.** Valutare in aritmetica floating point l'espressione\n",
    "$$A(x)=\\frac{1}{x}-\\frac{1}{(x+1)}$$  nel vettore   $x=[10^0, 10^1,... ,10^{20}]$ contenente potenze successive  di $10$,  Si calcoli per ogni elemento di x l'errore relativo considerando come valore esatto quello calcolato usando  l'espressione algebricamente equivalente\n",
    "$$\n",
    "B(x)=\\frac{1}{x (x+1)}.\n",
    "$$ Si visualizzi l'errore relativo in un grafico in scala logaritmica su $x$ e $y$"
   ]
  },
  {
   "cell_type": "code",
   "execution_count": 9,
   "id": "799a4ac2-9cf5-46a7-9b0f-fbc2c2f3e29b",
   "metadata": {
    "tags": []
   },
   "outputs": [
    {
     "name": "stdout",
     "output_type": "stream",
     "text": [
      "Array di partenza:  [1.e+00 1.e+01 1.e+02 1.e+03 1.e+04 1.e+05 1.e+06 1.e+07 1.e+08 1.e+09\n",
      " 1.e+10 1.e+11 1.e+12 1.e+13 1.e+14 1.e+15 1.e+16 1.e+17 1.e+18 1.e+19\n",
      " 1.e+20]\n",
      "yA =  [5.00000000e-01 9.09090909e-03 9.90099010e-05 9.99000999e-07\n",
      " 9.99900010e-09 9.99990000e-11 9.99999000e-13 9.99999899e-15\n",
      " 1.00000000e-16 1.00000015e-18 1.00000061e-20 9.99999968e-23\n",
      " 1.00004844e-24 1.00090672e-26 9.93964741e-29 9.86076132e-31\n",
      " 0.00000000e+00 0.00000000e+00 0.00000000e+00 0.00000000e+00\n",
      " 0.00000000e+00]\n",
      "yB =  [5.00000000e-01 9.09090909e-03 9.90099010e-05 9.99000999e-07\n",
      " 9.99900010e-09 9.99990000e-11 9.99999000e-13 9.99999900e-15\n",
      " 9.99999990e-17 9.99999999e-19 1.00000000e-20 1.00000000e-22\n",
      " 1.00000000e-24 1.00000000e-26 1.00000000e-28 1.00000000e-30\n",
      " 1.00000000e-32 1.00000000e-34 1.00000000e-36 1.00000000e-38\n",
      " 1.00000000e-40]\n",
      "spacing:  [2.22044605e-16 1.77635684e-15 1.42108547e-14 1.13686838e-13\n",
      " 1.81898940e-12 1.45519152e-11 1.16415322e-10 1.86264515e-09\n",
      " 1.49011612e-08 1.19209290e-07 1.90734863e-06 1.52587891e-05\n",
      " 1.22070312e-04 1.95312500e-03 1.56250000e-02 1.25000000e-01\n",
      " 2.00000000e+00 1.60000000e+01 1.28000000e+02 2.04800000e+03\n",
      " 1.63840000e+04]\n",
      "Errore relativo:  [0.00000000e+00 3.81639165e-16 8.21283146e-16 2.16209395e-14\n",
      " 6.38647291e-14 6.25044601e-13 1.07548935e-10 9.28145750e-10\n",
      " 1.03187712e-08 1.50211282e-07 6.14600376e-07 3.17244773e-08\n",
      " 4.84358805e-05 9.06716545e-04 6.03525942e-03 1.39238685e-02\n",
      " 1.00000000e+00 1.00000000e+00 1.00000000e+00 1.00000000e+00\n",
      " 1.00000000e+00]\n"
     ]
    },
    {
     "data": {
      "image/png": "[encoded data removed]",
      "text/plain": [
       "<Figure size 640x480 with 1 Axes>"
      ]
     },
     "metadata": {},
     "output_type": "display_data"
    },
    {
     "name": "stdout",
     "output_type": "stream",
     "text": [
      "Si nota che dopo il 10^16 l'errore è del 100%\n"
     ]
    }
   ],
   "source": [
    "# NON FARE DEI CICLI PER RIEMPIRE IL VETTORE, ma utilizzare il metodo arange di numpy:\n",
    "x = 10.0**np.arange(21)      # --> in python gli int sono di 32 bit, quindi sarebbe andato in overflow, quindi utilizzare 10.0 che viene considerato float\n",
    "print(\"Array di partenza: \", x)\n",
    "\n",
    "# Definizioni delle lambda function:\n",
    "A = lambda x: (1/x)-(1/(x+1))\n",
    "B = lambda x: (1/(x*(x+1)))\n",
    "\n",
    "# Utilizzo delle funzioni per il calcolo dei risultati:\n",
    "yA = A(x)\n",
    "yB = B(x)\n",
    "print(\"yA = \",yA)\n",
    "print(\"yB = \",yB)\n",
    "\n",
    "# Come calcolare lo spacing dei vari valori di x:\n",
    "print(\"spacing: \", np.spacing(x))\n",
    "\n",
    "# Calcolo dell'errore relativo:\n",
    "Errore_relativo = np.abs(yA - yB)/np.abs(yB)\n",
    "print(\"Errore relativo: \", Errore_relativo)\n",
    "\n",
    "# Generazione dei grafici:\n",
    "import matplotlib.pyplot as plt\n",
    "plt.loglog(x, Errore_relativo)   # --> tramite loglog genero un grafico in scala logaritmica\n",
    "plt.show()\n",
    "print(\"Si nota che dopo il 10^16 l'errore è del 100%\")\n",
    "\n",
    "## Quando x passa al valore 10^16, lo spacing ha un valore che è maggiore di 1, quindi il risultato della funzione mi da 0\n",
    "## in quanto sto sommando 1, che è minore dello spacing (quindi non ha alcun effetto sul valore a cui viene sommato)"
   ]
  },
  {
   "cell_type": "markdown",
   "id": "27155dcd-6580-4e3d-aac9-fa42b717bf70",
   "metadata": {},
   "source": [
    "- **8.**  Risolvere l'equazione $x^2+10^k x+1=0$ con k in range(1,9). \n",
    "\n",
    "- Scrivere un codice Python che calcola le due radici: x1=(-b+sqrt(Delta))/2  e x2=(-b-sqrt(Delta))/2, dove Delta=b^2-4ac,  per tutti i valori di k in range(1,9)\n",
    "\n",
    "- Calcolare l'errore relativo della soluzione numerica x1 rispetto alla soluzione in aritmetica reale, che per valori di k alti è  uguale a $10^{-k}$, altrimenti è una sua approssimazione. \n",
    "\n",
    "- Visualizzare l'errore relativo per ogni valore di k.\n",
    "\n",
    "- Proporre un algoritmo aleternativo per il calcolo di una delle due soluzioni, che fornisca errore relativo inferiore."
   ]
  },
  {
   "cell_type": "code",
   "execution_count": 26,
   "id": "55953f99-bd78-430b-b558-e5a3eb312350",
   "metadata": {
    "tags": []
   },
   "outputs": [
    {
     "name": "stdout",
     "output_type": "stream",
     "text": [
      "Per k= 1  x1= -0.10102051443364424  e x2= -9.898979485566356\n",
      "Valore reale approssimato di x1:  -10\n",
      "Valore reale di x1:  -9.898979485566313\n",
      "---> Errore relativo nel calcolo di x1:  98.98979485566356 %\n",
      "---> Errore relativo nel calcolo di x1:  98.97948556635619 %\n",
      "Per k= 2  x1= -0.010001000200048793  e x2= -99.98999899979995\n",
      "Valore reale approssimato di x1:  -100\n",
      "Valore reale di x1:  -99.98999899981216\n",
      "---> Errore relativo nel calcolo di x1:  99.98999899979995 %\n",
      "---> Errore relativo nel calcolo di x1:  99.98999799949986 %\n",
      "Per k= 3  x1= -0.0010000010000226212  e x2= -999.998999999\n",
      "Valore reale approssimato di x1:  -1000\n",
      "Valore reale di x1:  -999.9989999783788\n",
      "---> Errore relativo nel calcolo di x1:  99.9998999999 %\n",
      "---> Errore relativo nel calcolo di x1:  99.99989999980001 %\n",
      "Per k= 4  x1= -0.00010000000111176632  e x2= -9999.999899999999\n",
      "Valore reale approssimato di x1:  -10000\n",
      "Valore reale di x1:  -9999.99988882337\n",
      "---> Errore relativo nel calcolo di x1:  99.99999899999999 %\n",
      "---> Errore relativo nel calcolo di x1:  99.99999899999997 %\n",
      "Per k= 5  x1= -1.0000003385357559e-05  e x2= -99999.99999\n",
      "Valore reale approssimato di x1:  -100000\n",
      "Valore reale di x1:  -99999.96614643588\n",
      "---> Errore relativo nel calcolo di x1:  99.99999998999999 %\n",
      "---> Errore relativo nel calcolo di x1:  99.99999998999999 %\n",
      "Per k= 6  x1= -1.00000761449337e-06  e x2= -999999.999999\n",
      "Valore reale approssimato di x1:  -1000000\n",
      "Valore reale di x1:  -999992.38556461\n",
      "---> Errore relativo nel calcolo di x1:  99.9999999999 %\n",
      "---> Errore relativo nel calcolo di x1:  99.9999999999 %\n",
      "Per k= 7  x1= -9.96515154838562e-08  e x2= -9999999.9999999\n",
      "Valore reale approssimato di x1:  -10000000\n",
      "Valore reale di x1:  -10034970.317757009\n",
      "---> Errore relativo nel calcolo di x1:  99.99999999999899 %\n",
      "---> Errore relativo nel calcolo di x1:  99.999999999999 %\n",
      "Per k= 8  x1= -7.450580596923828e-09  e x2= -100000000.0\n",
      "Valore reale approssimato di x1:  -100000000\n",
      "Valore reale di x1:  -134217728.0\n",
      "---> Errore relativo nel calcolo di x1:  100.0 %\n",
      "---> Errore relativo nel calcolo di x1:  100.0 %\n"
     ]
    },
    {
     "data": {
      "image/png": "[encoded data removed]",
      "text/plain": [
       "<Figure size 1000x600 with 1 Axes>"
      ]
     },
     "metadata": {},
     "output_type": "display_data"
    }
   ],
   "source": [
    "# Definisco una funzione che mi permette di calcolare le radici dell'equazione (le due soluzioni possibili):\n",
    "def calcola_radici(a,b,c):\n",
    "    delta = (b**2)-(4*a*c)\n",
    "    if delta >= 0:\n",
    "        x1 = (-b + np.sqrt(delta)) / (2*a)\n",
    "        x2 = (-b - np.sqrt(delta)) / (2*a)\n",
    "        return x1,x2\n",
    "\n",
    "# Inizializzo le variabili di salvataggio dati per il grafico\n",
    "values = []\n",
    "errors = []\n",
    "\n",
    "# Itero per tutti i valori possibili di k, da sostituire nella equazione:\n",
    "for k in range(1,9):\n",
    "    # Calcolo delle radici tramite operazioni macchina\n",
    "    x1,x2 = calcola_radici(1,10**k,1)\n",
    "    print(\"Per k=\",k,\" x1=\",x1,\" e x2=\",x2)\n",
    "    \n",
    "    # Calcolo della soluzione reale approssimata\n",
    "    X1 = -10**(k)\n",
    "    print(\"Valore reale approssimato di x1: \", X1)\n",
    "    \n",
    "    # Formula migliore per il calcolo della soluzione reale\n",
    "    x1_alternative = -2/(10**k - np.sqrt((10**(2*k))-(4)))\n",
    "    print(\"Valore reale di x1: \", x1_alternative)\n",
    "    \n",
    "    # Calcolo dell'errore relativo, rispetto alla soluzione reale approssimata data\n",
    "    E_rel_x1_appr = np.abs(X1 - x1)/np.abs(X1)\n",
    "    print(\"---> Errore relativo nel calcolo di x1: \", E_rel_x1_appr*100, \"%\")\n",
    "    \n",
    "    E_rel_x1 = np.abs(x1_alternative - x1)/np.abs(x1_alternative)\n",
    "    print(\"---> Errore relativo nel calcolo di x1: \", E_rel_x1*100, \"%\")\n",
    "    \n",
    "    # Salvataggio dei valori per generare il grafico\n",
    "    values.append(k)\n",
    "    errors.append(E_rel_x1)\n",
    "    \n",
    "plt.figure(figsize=(10, 6))\n",
    "plt.plot(values, errors, marker='o')\n",
    "plt.xlabel('k')\n",
    "plt.ylabel('Errore relativo')\n",
    "plt.title('Errore relativo in funzione di k')\n",
    "plt.grid(True)\n",
    "plt.show()\n",
    "    \n",
    "# Possiamo utilizzare la stessa formula delle radici, ma utilizzando quella in cui il valore b all'interno del calcolo del delta,\n",
    "# viene preso dimezzato (ovvero il fratto 2a della formula viene suddivisa nelle due parti della formula, ottenendo:\n",
    "# x = (-b/2a) +/- (sqrt((b/2a)**2 - c/a))\n",
    "\n",
    "# Questo codice utilizza la formula di Viète per calcolare una delle due soluzioni, che può fornire un errore relativo inferiore \n",
    "# quando il discriminante è vicino a b^2, causando la cancellazione numerica nella formula quadratica standard. \n",
    "# Questo può essere particolarmente utile per valori elevati di k.\n"
   ]
  },
  {
   "cell_type": "markdown",
   "id": "9f6294cc-b0df-40b8-a1f5-450f4e756ffa",
   "metadata": {},
   "source": [
    "- **9.** Scrivere uno script Matlab che fornisca le approssimazioni di $e=\\exp(1)$ ottenute con la formula\n",
    "$f(n)=(1/n+1)^n$ per $n=10^k$ e  $k=0, ..., 16$. \n",
    "\n",
    "Visualizzare  un grafico con i valori di $f(n)$ al variare di n ed un grafico con i valori dell'errore relativo (considerando come valore esatto il valore math.exp(1)).  Cosa si osserva? Commentare i risultati ottenuti."
   ]
  },
  {
   "cell_type": "code",
   "execution_count": null,
   "id": "de9f90ae-afca-4294-9acd-05585d601eb7",
   "metadata": {},
   "outputs": [],
   "source": []
  }
 ],
 "metadata": {
  "kernelspec": {
   "display_name": "Python 3 (ipykernel)",
   "language": "python",
   "name": "python3"
  },
  "language_info": {
   "codemirror_mode": {
    "name": "ipython",
    "version": 3
   },
   "file_extension": ".py",
   "mimetype": "text/x-python",
   "name": "python",
   "nbconvert_exporter": "python",
   "pygments_lexer": "ipython3",
   "version": "3.11.5"
  }
 },
 "nbformat": 4,
 "nbformat_minor": 5
}
