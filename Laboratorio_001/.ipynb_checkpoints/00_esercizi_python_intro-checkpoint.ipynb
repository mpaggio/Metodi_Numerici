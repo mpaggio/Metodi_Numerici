{
 "cells": [
  {
   "cell_type": "markdown",
   "metadata": {},
   "source": [
    "# Esercizio n. 1\n",
    "Scrivere un programma che, data una lista (ad esempio, a = [1, 1, 2, 3, 5, 8, 13, 21, 34, 55, 89]) stampa tutti gli elementi della lista che sono minori di 5.\n",
    "\n",
    "Extra:\n",
    "* Invece di stampare gli elementi uno per uno, creare un nuovo elenco che contenga tutti gli elementi inferiori a 5 dall'elenco di input e stampare questo nuovo elenco.\n"
   ]
  },
  {
   "cell_type": "code",
   "execution_count": 1,
   "metadata": {
    "tags": []
   },
   "outputs": [
    {
     "name": "stdout",
     "output_type": "stream",
     "text": [
      "1\n",
      "1\n",
      "2\n",
      "3\n"
     ]
    }
   ],
   "source": [
    "a = [1, 1, 2, 3, 5, 8, 13, 21, 34, 55, 89]\n",
    "# MEDIANTE STAMPA VOLTA PER VOLTA DEI VALORI MINORI DI 5\n",
    "for x in a:\n",
    "    if x < 5:\n",
    "        print(x)"
   ]
  },
  {
   "cell_type": "code",
   "execution_count": 2,
   "metadata": {
    "tags": []
   },
   "outputs": [
    {
     "name": "stdout",
     "output_type": "stream",
     "text": [
      "[1, 1, 2, 3]\n"
     ]
    }
   ],
   "source": [
    "b = []\n",
    "# MEDIANTE SALVATAGGIO PROGRESSIVO DEI VALORI IN UN NUOVO VETTORE\n",
    "for y in a:\n",
    "    if y < 5:\n",
    "        b.append(y)\n",
    "print(b)"
   ]
  },
  {
   "cell_type": "code",
   "execution_count": 3,
   "metadata": {
    "tags": []
   },
   "outputs": [
    {
     "name": "stdout",
     "output_type": "stream",
     "text": [
      "[1, 1, 2, 3]\n"
     ]
    }
   ],
   "source": [
    "# MEDIANTE LIST COMPREHENSION\n",
    "b = [x for x in a if x < 5]\n",
    "print(b)"
   ]
  },
  {
   "cell_type": "markdown",
   "metadata": {},
   "source": [
    "# Esercizio n. 2\n",
    "Scrivere un programma che, date due liste, restituisca una lista che contiene solo gli elementi che sono comuni tra le prime due liste (senza duplicati), ad esempio, usando a = [1, 1, 2, 3, 5, 8, 13, 21, 34, 55, 89], b = [1, 2, 3, 4, 5, 6, 7, 8, 9, 10, 11, 12, 13].\n",
    "\n",
    "Assicurati che il tuo programma funzioni su due liste di dimensioni diverse.\n",
    "\n",
    "Extra:\n",
    "* Scrivere lo stesso programma per restituire un elenco con elementi concatenati tra gli elenchi di input (con ripetizioni)."
   ]
  },
  {
   "cell_type": "code",
   "execution_count": 4,
   "metadata": {
    "tags": []
   },
   "outputs": [
    {
     "name": "stdout",
     "output_type": "stream",
     "text": [
      "[1, 1, 2, 3, 5, 8, 13]\n"
     ]
    }
   ],
   "source": [
    "a = [1, 1, 2, 3, 5, 8, 13, 21, 34, 55, 89]\n",
    "b = [1, 2, 3, 4, 5, 6, 7, 8, 9, 10, 11, 12, 13]\n",
    "c = []\n",
    "# MEDIANTE SCORRIMENTO DI ENTRAMBI GLI ELEMENTI DEI DUE VETTORI\n",
    "for x in a:\n",
    "    for y in b:\n",
    "        if x == y:\n",
    "            c.append(x)\n",
    "print(c)"
   ]
  },
  {
   "cell_type": "code",
   "execution_count": 5,
   "metadata": {
    "tags": []
   },
   "outputs": [
    {
     "name": "stdout",
     "output_type": "stream",
     "text": [
      "[1, 1, 2, 3, 5, 8, 13, 1, 1, 2, 3, 5, 8, 13]\n"
     ]
    }
   ],
   "source": [
    "d = []\n",
    "e = []\n",
    "f = []\n",
    "# CONCATENAZIONE DEI DUE VETTORI (SELEZIONATI SOLO GLI ELEMENTI IN COMUNE, CON RIPETIZIONE)\n",
    "for x in a:\n",
    "    for y in b:\n",
    "        if x == y:\n",
    "            d.append(x)\n",
    "            e.append(y)\n",
    "f = d + e\n",
    "print(f)"
   ]
  },
  {
   "cell_type": "markdown",
   "metadata": {},
   "source": [
    "# Esercizio n. 3\n",
    "Sfruttando la list comprehension, scrivi una riga di codice Python che prende una lista (ad esempio, a = [1, 4, 9, 16, 25, 36, 49, 64, 81, 100]) e crea una nuova lista che ha solo gli elementi pari della lista di partenza. "
   ]
  },
  {
   "cell_type": "code",
   "execution_count": 6,
   "metadata": {
    "tags": []
   },
   "outputs": [
    {
     "name": "stdout",
     "output_type": "stream",
     "text": [
      "[4, 16, 36, 64, 100]\n"
     ]
    }
   ],
   "source": [
    "a = [1, 4, 9, 16, 25, 36, 49, 64, 81, 100]\n",
    "b = [x for x in a if x%2 == 0]\n",
    "print(b)"
   ]
  },
  {
   "cell_type": "markdown",
   "metadata": {},
   "source": [
    "# Esercizio n. 4\n",
    "Scrivete un programma per stampare il seguente modello usando i cicli for.\n",
    "\n",
    "```\n",
    "* \n",
    "* * \n",
    "* * * \n",
    "* * * * \n",
    "* * * * * \n",
    "* * * * \n",
    "* * * \n",
    "* * \n",
    "*\n",
    "```"
   ]
  },
  {
   "cell_type": "code",
   "execution_count": 7,
   "metadata": {
    "tags": []
   },
   "outputs": [
    {
     "name": "stdout",
     "output_type": "stream",
     "text": [
      "['*']\n",
      "['*', '*']\n",
      "['*', '*', '*']\n",
      "['*', '*', '*', '*']\n",
      "['*', '*', '*', '*', '*']\n",
      "['*', '*', '*', '*']\n",
      "['*', '*', '*']\n",
      "['*', '*']\n",
      "['*']\n"
     ]
    }
   ],
   "source": [
    "a = []\n",
    "for x in range(9):\n",
    "    if x <= 4:\n",
    "        for y in range(x + 1):\n",
    "            a.append(\"*\")\n",
    "    else:\n",
    "        for z in range(9 - x):\n",
    "            a.append(\"*\")\n",
    "    print(a)\n",
    "    a = []\n",
    "        "
   ]
  },
  {
   "cell_type": "markdown",
   "metadata": {},
   "source": [
    "# Esercizio n. 5\n",
    "Scrivere un programma per controllare se tutti i caratteri di s1 sono contenuti in s2. La posizione del carattere non ha importanza.\n",
    "\n",
    "Ad esempio con s1='by' e s2='blueberry' dovrebbe restituire true. Al contrario, con s1='byZ' e s2='blueberry' dovrebbe restituire false.\n"
   ]
  },
  {
   "cell_type": "code",
   "execution_count": 8,
   "metadata": {
    "tags": []
   },
   "outputs": [
    {
     "name": "stdout",
     "output_type": "stream",
     "text": [
      "False\n"
     ]
    }
   ],
   "source": [
    "s1='byZ'\n",
    "s2='blueberry'\n",
    "counter = 0\n",
    "for x in s1:\n",
    "    for y in s2:\n",
    "        if x == y:\n",
    "           counter = counter + 1\n",
    "           break\n",
    "if counter == len(s1):\n",
    "    print(True)\n",
    "else:\n",
    "    print(False)"
   ]
  },
  {
   "cell_type": "markdown",
   "metadata": {},
   "source": [
    "# Esercizio n. 6\n",
    "Crea una funzione che accetta due numeri interi come parametri di input e se il loro prodotto è minore di 1000 restituisce il prodotto, altrimenti restituisce la somma dei numeri di input.\n",
    "\n",
    "Extra:\n",
    "* Scrivere lo stesso programma utilizzando il parametro soglia (1000) come parametro opzionale di input. Ciò significa che questo parametro deve essere definito al suo valore predefinito nella funzione. Testare la funzione modificando la soglia quando la si chiama."
   ]
  },
  {
   "cell_type": "code",
   "execution_count": 9,
   "metadata": {
    "tags": []
   },
   "outputs": [
    {
     "name": "stdout",
     "output_type": "stream",
     "text": [
      "20\n",
      "-20\n",
      "10020\n",
      "-200000\n"
     ]
    }
   ],
   "source": [
    "# VALORE DI SOGLIA NON MODIFICABILE\n",
    "def prodOrSum(x, y):\n",
    "    if x*y < 1000:\n",
    "        print(x*y)\n",
    "    else:\n",
    "        print(x+y)\n",
    "        \n",
    "prodOrSum(10,2)\n",
    "prodOrSum(-10,2)\n",
    "prodOrSum(10000,20)\n",
    "prodOrSum(-10000,20)"
   ]
  },
  {
   "cell_type": "code",
   "execution_count": 10,
   "metadata": {
    "tags": []
   },
   "outputs": [
    {
     "name": "stdout",
     "output_type": "stream",
     "text": [
      "RISULTATI INSERENDO IL LIMITE\n",
      "12\n",
      "-20\n",
      "10020\n",
      "-200000\n",
      "RISULTATI NON INSERENDO IL LIMITE\n",
      "20\n",
      "-20\n",
      "10020\n",
      "-200000\n"
     ]
    }
   ],
   "source": [
    "# VALORE DI SOGLIA MODIFICABILE VIA INPUT\n",
    "def prodOrSumWithLimit(x, y, limit = 1000):\n",
    "    if x*y < limit:\n",
    "        print(x*y)\n",
    "    else:\n",
    "        print(x+y)\n",
    "\n",
    "# INSERISCO IL VALORE LIMITE\n",
    "print(\"RISULTATI INSERENDO IL LIMITE\")\n",
    "prodOrSumWithLimit(10,2,10)\n",
    "prodOrSumWithLimit(-10,2,10)\n",
    "prodOrSumWithLimit(10000,20, 10)\n",
    "prodOrSumWithLimit(-10000,20, 10)\n",
    "\n",
    "# NON INSERISCO IL VALORE LIMITE\n",
    "print(\"RISULTATI NON INSERENDO IL LIMITE\")\n",
    "prodOrSumWithLimit(10,2)\n",
    "prodOrSumWithLimit(-10,2)\n",
    "prodOrSumWithLimit(10000,20)\n",
    "prodOrSumWithLimit(-10000,20)\n"
   ]
  },
  {
   "cell_type": "markdown",
   "metadata": {},
   "source": [
    "# Esercizio n. 7\n",
    "Scrivi una funzione Python che, presa in input una lista:\n",
    "* restituisca la somma e il prodotto degli elementi contenuti in una lista\n",
    "\n",
    "Scrivi una funzione Python che, presa in input una lista:\n",
    "* restituisca la somma o il prodotto degli elementi della lista a seconda di un parametro di input aggiuntivo specificato dall'utente.\n"
   ]
  },
  {
   "cell_type": "code",
   "execution_count": 11,
   "metadata": {
    "tags": []
   },
   "outputs": [
    {
     "name": "stdout",
     "output_type": "stream",
     "text": [
      "La somma è:\n",
      "36\n",
      "Il prodotto è:\n",
      "40320\n"
     ]
    }
   ],
   "source": [
    "# STAMPA SIA LA SOMMA CHE IL PRODOTTO, SENZA POSSIBILITA DI SCELTA\n",
    "def prodAndSum(list):\n",
    "    sum = 0\n",
    "    prod = 1\n",
    "    for x in list:\n",
    "       sum = sum + x\n",
    "       prod = prod * x\n",
    "    print(\"La somma è:\")\n",
    "    print(sum)\n",
    "    print(\"Il prodotto è:\")\n",
    "    print(prod)\n",
    "    \n",
    "# CODICE PER UTILIZZO DI FUNZIONE\n",
    "a = [1,2,3,4,5,6,7,8]\n",
    "prodAndSum(a)"
   ]
  },
  {
   "cell_type": "code",
   "execution_count": 12,
   "metadata": {
    "tags": []
   },
   "outputs": [
    {
     "name": "stdout",
     "output_type": "stream",
     "text": [
      "La somma è:\n",
      "36\n",
      "Il prodotto è:\n",
      "40320\n"
     ]
    }
   ],
   "source": [
    "# STAMPA LA SOMMA O IL PRODOTTO, A SECONDA DI COSA SI SCEGLIE\n",
    "def prodAndSum(list, prodSetting = True):\n",
    "    sum = 0\n",
    "    prod = 1\n",
    "    for x in list:\n",
    "        if prodSetting == False:\n",
    "            sum = sum + x\n",
    "        else:\n",
    "            prod = prod * x\n",
    "    if prodSetting == False:\n",
    "        print(\"La somma è:\")\n",
    "        print(sum)\n",
    "    else:\n",
    "        print(\"Il prodotto è:\")\n",
    "        print(prod)\n",
    "    \n",
    "# CODICE PER UTILIZZO DI FUNZIONE\n",
    "a = [1,2,3,4,5,6,7,8]\n",
    "prodAndSum(a, False)\n",
    "prodAndSum(a)"
   ]
  },
  {
   "cell_type": "markdown",
   "metadata": {
    "ExecuteTime": {
     "end_time": "2023-02-21T00:10:18.015779Z",
     "start_time": "2023-02-21T00:10:17.978520Z"
    }
   },
   "source": [
    "# Esercizio n. 8\n",
    "Dato un elenco di numeri interi, ad esempio x = [0,1,2,3,4,5,6,7,8,9,], eleva al quadrato tutti i suoi valori in un nuovo elenco y. Usa la list comprehension per farlo.\n",
    "\n",
    "* Traccia y su x usando la libreria matplotlib. Aggiungi anche un indicatore per ogni punto (ad esempio, un indicatore quadrato).\n",
    "\n",
    "* Prova a modificare alcuni parametri della trama come:\n",
    "     * colore\n",
    "     * etichetta x, etichetta y\n",
    "     * grid(axis='y')# \n",
    "     * titolo\n",
    "     * larghezza della linea\n",
    "\n",
    "* Tracciare una seconda curva (ad esempio, una relazione cubica o lineare semplice su x) sulla curva precedente.\n",
    "* Invece di tracciare le due curve in un unico grafico, riportarle su due subplot distinti organizzati per colonne (ad esempio, subplot(1,2,1) e subplot(1,2,2))."
   ]
  },
  {
   "cell_type": "markdown",
   "metadata": {},
   "source": [
    "## INFORMAZIONI UTILI (MATPLOTLIB): ##\n",
    "- Se si vuole fare un grafico unico, utilizzare `plot`.\n",
    "- Se si vuole fare un grafico suddiviso in sotto grafici, utilizzare `subplot`:\n",
    "    * Bisogna trattare questa funzione come se si volesse creare una matrice, infatti, se si utilizza un solo valore (ad esempio         `subplot(2)`) andrà a creare dei sottografici che sono impilati in verticale. Se invece utilizziamo due valori (ad esempio         `subplot(2,2)`), si andranno a creare dei sottografici come se fosse una matrice m*n (con m e n inseriti come valori).\n",
    "- Se si vuole generare del testo all'interno del grafico, utilizzare `text`.\n",
    "- Se si vuole generare una legenda all'interno del grafico, utilizzare `legend`.\n",
    "- Se si vuole mostrare il grafico generato, utilizzare `show`."
   ]
  },
  {
   "cell_type": "code",
   "execution_count": 46,
   "metadata": {
    "tags": []
   },
   "outputs": [
    {
     "data": {
      "image/png": "[encoded data removed]",
      "text/plain": [
       "<Figure size 640x480 with 2 Axes>"
      ]
     },
     "metadata": {},
     "output_type": "display_data"
    }
   ],
   "source": [
    "import matplotlib\n",
    "from matplotlib import pyplot as plt\n",
    "x = [0,1,2,3,4,5,6,7,8,9]\n",
    "square = [y*y for y in x]\n",
    "linear = [element + 4 for element in x]\n",
    "\n",
    "# COSTRUZIONE DI DUE SUBPLOTS\n",
    "# INSERISCO I DUE GRAFICI OGNUNO IN UN SUBPLOT DIFFERENTE\n",
    "# (L'istruzione subplot viene fatta solamente per il grafico che definisco dopo)\n",
    "plt.subplot(1,2,1)\n",
    "plt.plot(x, square, 'r:o', label = \"square function\")\n",
    "plt.title(\"Square function graphs\")\n",
    "# Inserisce nella griglia tutte le linee verticali\n",
    "plt.grid(axis='y')\n",
    "# Inserisce una griglia classica con linee verticali e orizzontali\n",
    "plt.grid(color = \"green\", linestyle = \"-\", linewidth = 0.5)\n",
    "# Inserisce una legenda\n",
    "plt.legend()\n",
    "\n",
    "plt.subplot(1,2,2)\n",
    "plt.plot(x, linear, 'b:o', label = \"linear function\")\n",
    "plt.title(\"Linear function graphs\")\n",
    "plt.grid(axis='y')\n",
    "plt.grid(color = \"green\", linestyle = \"-\", linewidth = 0.5)\n",
    "plt.legend()\n",
    "\n",
    "# ENTRAMBI I GRAFICI IN UN SOLO PLOT\n",
    " # plt.plot(x, square, 'r--o', label = \"square function graph\")\n",
    " # plt.plot(x, linear, 'b--o', label = \"linear function graph\")\n",
    " # plt.title(\"Squares plot\")\n",
    "\n",
    "# QUESTA PARTE NON SERVE, FACCIO GIA TUTTO CON 'r--o'\n",
    "# for num in range(len(x)):\n",
    "    # plt.text(x[num], square[num], \"o\",ha = \"center\", va = \"center\")\n",
    "    # plt.text(x[num], linear[num], \"o\",ha = \"center\", va = \"center\")\n",
    "    # plt.text(x[num], 0, \"|\", ha = \"center\", va = \"center\")\n",
    "    # plt.text(0, square[num], \"-\", ha = \"center\", va = \"center\")\n",
    "    # plt.text(0, linear[num], \"-\", ha = \"center\", va = \"center\")\n",
    "\n",
    "# MOSTRA LA GRIGLIA\n",
    "plt.show()"
   ]
  }
 ],
 "metadata": {
  "kernelspec": {
   "display_name": "Python 3 (ipykernel)",
   "language": "python",
   "name": "python3"
  },
  "language_info": {
   "codemirror_mode": {
    "name": "ipython",
    "version": 3
   },
   "file_extension": ".py",
   "mimetype": "text/x-python",
   "name": "python",
   "nbconvert_exporter": "python",
   "pygments_lexer": "ipython3",
   "version": "3.11.5"
  },
  "varInspector": {
   "cols": {
    "lenName": 16,
    "lenType": 16,
    "lenVar": 40
   },
   "kernels_config": {
    "python": {
     "delete_cmd_postfix": "",
     "delete_cmd_prefix": "del ",
     "library": "var_list.py",
     "varRefreshCmd": "print(var_dic_list())"
    },
    "r": {
     "delete_cmd_postfix": ") ",
     "delete_cmd_prefix": "rm(",
     "library": "var_list.r",
     "varRefreshCmd": "cat(var_dic_list()) "
    }
   },
   "types_to_exclude": [
    "module",
    "function",
    "builtin_function_or_method",
    "instance",
    "_Feature"
   ],
   "window_display": false
  }
 },
 "nbformat": 4,
 "nbformat_minor": 4
}
