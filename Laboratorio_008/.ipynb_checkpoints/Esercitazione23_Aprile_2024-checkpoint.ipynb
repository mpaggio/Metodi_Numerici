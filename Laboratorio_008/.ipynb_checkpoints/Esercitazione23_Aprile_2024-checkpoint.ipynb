{
 "cells": [
  {
   "cell_type": "markdown",
   "id": "d2903ef7-4c36-4b4f-b8dd-01fa2f35dfc5",
   "metadata": {},
   "source": [
    "## Esercitazione 8  del    23 Aprile 2024\n"
   ]
  },
  {
   "cell_type": "markdown",
   "id": "f7105091-a87d-4561-bb63-c8ac815faf37",
   "metadata": {},
   "source": [
    "## Condizionamento del problema della soluzione di un sistema lineare"
   ]
  },
  {
   "cell_type": "markdown",
   "id": "411879d0-2820-4409-a141-76ccae5196d3",
   "metadata": {},
   "source": [
    "# APPUNTI\n",
    "\n",
    "### MATRICE DI VANDERMONDE (A):\n",
    "- x = (x0, x1, ..., xn)\n",
    "- Matrice mal condizionata\n",
    "- A = [[x0^0, x0^1, ..., x0^n], [x1^0, x1^1, ..., x1^n], ..., [xn^0, xn^1, ..., xn^n]]\n",
    "\n",
    "### RISOLUZIONE DEL SISTEMA Ax=b (con A matrice di VANDERMONDE):\n",
    "- Dobbiamo trovare b in maniera tale che la soluzione del sistema sia x = (1,...,1)\n",
    "- Definiamo x_esatta come: x_esatta = (1,1,...,1) Trasposto\n",
    "- b = A\n",
    "- b = np.sum(A, axis = 1).reshape(n,1)\n",
    "- Utilizzare la funzione di scipy:\n",
    "    - x = scipy.linalg.solve(A,b)\n",
    "- b_perturbato = b + delta_b (dove delta_b = 0.0025*b)\n",
    "    - x_perturbato = scipy.linalg.solve(A, b_perturbato)\n",
    "    \n",
    "### RELAZIONE DEGLI ERRORI:\n",
    "- (||delta_x||)/(||x||) = (||x_perturbato - x||)/(||x||) = (||x + delta_x - x||)/(||x||) <= K(A)*(||delta_b||)/(||b||)\n",
    "    - K(A) = ||A||*||A^(-1)||\n",
    "    - K(A) = np.linalg.cond(A,1) --> (oppure 2, oppure np.inf per la norma due o per la norma infinito)\n",
    "    \n",
    "### RIPASSO:\n",
    "- ||x|| = np.linalg.norm(x, tipo)\n"
   ]
  },
  {
   "cell_type": "code",
   "execution_count": 3,
   "id": "8b97f386-2e33-4f46-865f-17064ad0bddf",
   "metadata": {
    "tags": []
   },
   "outputs": [
    {
     "name": "stdout",
     "output_type": "stream",
     "text": [
      "[[     1     -4     16    -64    256  -1024   4096 -16384]\n",
      " [     1     -3      9    -27     81   -243    729  -2187]\n",
      " [     1     -2      4     -8     16    -32     64   -128]\n",
      " [     1     -1      1     -1      1     -1      1     -1]\n",
      " [     1      0      0      0      0      0      0      0]\n",
      " [     1      1      1      1      1      1      1      1]\n",
      " [     1      2      4      8     16     32     64    128]\n",
      " [     1      3      9     27     81    243    729   2187]]\n"
     ]
    }
   ],
   "source": [
    "import numpy as np\n",
    "x = np.arange(-4,4)\n",
    "# Permette di creare la matrice d9i Vandermonde\n",
    "A = np.vander(x, increasing=True)\n",
    "print(A)"
   ]
  },
  {
   "cell_type": "markdown",
   "id": "2b2f0afd-9374-4f8e-8a7b-eb783ba28fd4",
   "metadata": {},
   "source": [
    "# Esercizio 1\n",
    "- Costruire la matrice di Vandermonde A, generata dal vettore x=[1.0,2.0,...,6.0] utilizzando la funzione np.vander(x, increasing=True) di numpy. \n",
    "- Calcolarne l'indice di condizionamento in norma infinito senza utilizzare la funzione cond di numpy.linalg e poi confrontarne il valore con quello ottenuto utilizzando la funzione.\n",
    "- Considerare il sistema lineare Ax=b  con matrice dei coefficienti A e termine noto costruito in maniera tale che la soluzione esatta sia il vettore x=[1,1,1,1,1,1] (ogni sua componente è 1) e risolverlo usando il metodo solve del modulo linalg di Scipy.\n",
    "- perturbare il vettore dei termini noti della quantità\n",
    "- \n",
    "$$\n",
    "\\delta b = 0.025 \\, \\ast \\,\n",
    "\\left [\n",
    "\\begin{array}{c}\n",
    "1\\\\\n",
    "0\\\\\n",
    "0\\\\\n",
    "0\n",
    "\\end{array}\n",
    "\\right ]\n",
    "$$\n",
    "\n",
    "- Risolvere il sistema con termine noto pertubato $b + \\delta b$ ((usando il metodo solve del modulo linalg di Scipy).\n",
    "- Calcolare l'errore relativo sul termine noto e l'errore relativo sulla soluzione. Cosa si può concludere?\n",
    "\n",
    "N.B. per il calcolo dell'inversa della matrice di A usare la funzione di numpy.linalg.inv(A).\n"
   ]
  },
  {
   "cell_type": "code",
   "execution_count": 4,
   "id": "26d36258-6eb9-4814-acb8-962db27f6202",
   "metadata": {
    "tags": []
   },
   "outputs": [],
   "source": [
    "# IMPORTO LE LIBRERIE FONDAMENTALI:\n",
    "import numpy as np\n",
    "import numpy.linalg as npl\n",
    "import scipy.linalg as spl"
   ]
  },
  {
   "cell_type": "code",
   "execution_count": 7,
   "id": "7a413e88-a6aa-48b3-b019-674585269f73",
   "metadata": {
    "tags": []
   },
   "outputs": [
    {
     "name": "stdout",
     "output_type": "stream",
     "text": [
      "[[1.000e+00 1.000e+00 1.000e+00 1.000e+00 1.000e+00 1.000e+00]\n",
      " [1.000e+00 2.000e+00 4.000e+00 8.000e+00 1.600e+01 3.200e+01]\n",
      " [1.000e+00 3.000e+00 9.000e+00 2.700e+01 8.100e+01 2.430e+02]\n",
      " [1.000e+00 4.000e+00 1.600e+01 6.400e+01 2.560e+02 1.024e+03]\n",
      " [1.000e+00 5.000e+00 2.500e+01 1.250e+02 6.250e+02 3.125e+03]\n",
      " [1.000e+00 6.000e+00 3.600e+01 2.160e+02 1.296e+03 7.776e+03]]\n"
     ]
    }
   ],
   "source": [
    "# CREAZIONE DELLA MATRICE DI VANDERMONDE:\n",
    "x = np.arange(1.0,7.0)\n",
    "A = np.vander(x, increasing = True)\n",
    "print(A)"
   ]
  },
  {
   "cell_type": "code",
   "execution_count": 12,
   "id": "231ea288-de5f-4c52-9b1b-32ceb248dab0",
   "metadata": {
    "tags": []
   },
   "outputs": [
    {
     "name": "stdout",
     "output_type": "stream",
     "text": [
      "[[6.000e+00]\n",
      " [6.300e+01]\n",
      " [3.640e+02]\n",
      " [1.365e+03]\n",
      " [3.906e+03]\n",
      " [9.331e+03]]\n"
     ]
    }
   ],
   "source": [
    "# CREO IL VETTORE b DEL TERMINE NOTO:\n",
    "b = np.sum(A, axis = 1).reshape(A.shape[0], 1)\n",
    "print(b)"
   ]
  },
  {
   "cell_type": "code",
   "execution_count": 14,
   "id": "c409a47c-0668-46ef-9306-c8769ccca07b",
   "metadata": {
    "tags": []
   },
   "outputs": [
    {
     "name": "stdout",
     "output_type": "stream",
     "text": [
      "[[1.]\n",
      " [1.]\n",
      " [1.]\n",
      " [1.]\n",
      " [1.]\n",
      " [1.]]\n"
     ]
    }
   ],
   "source": [
    "# CALCOLO DELLA SOLUZIONE:\n",
    "x = spl.solve(A,b)\n",
    "print(x)"
   ]
  },
  {
   "cell_type": "code",
   "execution_count": 16,
   "id": "691a0c45-d380-409c-ad97-d6aeac50129f",
   "metadata": {
    "tags": []
   },
   "outputs": [
    {
     "name": "stdout",
     "output_type": "stream",
     "text": [
      "[[1.15      ]\n",
      " [0.7825    ]\n",
      " [1.12083333]\n",
      " [0.96770833]\n",
      " [1.00416667]\n",
      " [0.99979167]]\n"
     ]
    }
   ],
   "source": [
    "# PERTURBAZIONE DEL TERMINE NOTO:\n",
    "b_perturbato = b.copy()\n",
    "b_perturbato[0] = b_perturbato[0] + 0.025\n",
    "x_perturbato = spl.solve(A, b_perturbato)\n",
    "print(x_perturbato)"
   ]
  },
  {
   "cell_type": "code",
   "execution_count": 18,
   "id": "7eadf439-0888-4df5-ac34-8d9e2d8bdf01",
   "metadata": {
    "tags": []
   },
   "outputs": [
    {
     "name": "stdout",
     "output_type": "stream",
     "text": [
      "Errore relativo sui dati:\n",
      " 2.679241238881187e-06\n",
      "Errore relativo sulla soluzione:\n",
      " 0.21749999999149086\n"
     ]
    }
   ],
   "source": [
    "# MISURAZIONE DELL'ERRORE RELATIVO SUI DATI (sul termine noto):\n",
    "errore_dati = npl.norm(b_perturbato - b, np.inf)/npl.norm(b, np.inf)\n",
    "# MISURAZIONE DELL'ERRORE RELATIVO SULLA SOLUZIONE:\n",
    "errore_soluzione = npl.norm(x_perturbato - x, np.inf)/npl.norm(x, np.inf)\n",
    "print(\"Errore relativo sui dati:\\n\", errore_dati)\n",
    "print(\"Errore relativo sulla soluzione:\\n\", errore_soluzione)"
   ]
  },
  {
   "cell_type": "code",
   "execution_count": 22,
   "id": "f24972a9-179b-4e80-a59a-bbdc1373db11",
   "metadata": {
    "tags": []
   },
   "outputs": [
    {
     "name": "stdout",
     "output_type": "stream",
     "text": [
      "Indice di condizionamento K(A):\n",
      " 1204321.0666666434\n"
     ]
    }
   ],
   "source": [
    "# La matrice dovrà essere necessariamente una matrice mal condizionata visto che per un piccolo errore sui dati, si viene a formare un errore sui risultati immenso\n",
    "# Risolvere un sistema lineare con questo tipo di matrice, porta a dei risultati che sono ben lontani da quelli che ci aspetteremmo\n",
    "KA = npl.cond(A,np.inf)\n",
    "print(\"Indice di condizionamento K(A):\\n\", KA)"
   ]
  },
  {
   "cell_type": "markdown",
   "id": "1fad1579-04c4-4aae-a840-2ab3120aaf2e",
   "metadata": {},
   "source": [
    "## Esercizio 2\n",
    "Assegnato il sistema lineare $Ax = b$, con\n",
    "$$\n",
    "A =\n",
    "\\left [\n",
    "\\begin{array}{ccc}\n",
    "6 & 63 & 662.2\\\\\n",
    "63 & 662.2 & 6967.8\\\\\n",
    "662.2 & 6967.8 & 73393.5664\n",
    "\\end{array}\n",
    "\\right ], \\qquad\n",
    "b =\n",
    "\\left [\n",
    "\\begin{array}{c}\n",
    "1.1\\\\\n",
    "2.33\\\\\n",
    "1.7\n",
    "\\end{array}\n",
    "\\right ]\n",
    "$$\n",
    "- trovare il vettore soluzione $x$ (usando il metodo solve del modulo linalg di Scipy);\n",
    "- perturbare la matrice dei coefficienti della quantità\n",
    "$$\n",
    "\\delta A =\n",
    "0.01 \\, \\ast \\,\n",
    "\\left [ \\begin{array}{ccc}\n",
    "1 & 0 & 0\\\\\n",
    "0 & 0 & 0\\\\\n",
    "0 & 0 & 0\n",
    "\\end{array}\n",
    "\\right ]\n",
    "$$\n",
    "quindi calcolare l'errore relativo sulla soluzione e confrontarlo con la\n",
    "perturbazione relativa sui dati di ingresso. Cosa si osserva?"
   ]
  },
  {
   "cell_type": "code",
   "execution_count": 50,
   "id": "95eaccc3-9664-4a97-a55d-877399bf26d8",
   "metadata": {
    "tags": []
   },
   "outputs": [
    {
     "name": "stdout",
     "output_type": "stream",
     "text": [
      "[[136422.33746479]\n",
      " [-25999.49954686]\n",
      " [  1237.44419611]]\n"
     ]
    }
   ],
   "source": [
    "# CREAZIONE DELLA MATRICE:\n",
    "B = np.array([[6.0,63.0,662.2],[63.0, 662.2, 6967.8], [662.2, 6967.8, 73393.5664]])\n",
    "print(x)"
   ]
  },
  {
   "cell_type": "code",
   "execution_count": 51,
   "id": "b7e95771-b680-4cff-bcbf-950e22c99649",
   "metadata": {
    "tags": []
   },
   "outputs": [
    {
     "name": "stdout",
     "output_type": "stream",
     "text": [
      "[[1.1 ]\n",
      " [2.33]\n",
      " [1.7 ]]\n"
     ]
    }
   ],
   "source": [
    "# CREO IL VETTORE b DEL TERMINE NOTO:\n",
    "b = np.array([1.1,2.33,1.7]).reshape(3, 1)\n",
    "print(b)"
   ]
  },
  {
   "cell_type": "code",
   "execution_count": 52,
   "id": "4236a127-4806-476b-bd29-1152e65e4069",
   "metadata": {
    "tags": []
   },
   "outputs": [
    {
     "name": "stdout",
     "output_type": "stream",
     "text": [
      "[[136422.33746479]\n",
      " [-25999.49954686]\n",
      " [  1237.44419611]]\n"
     ]
    }
   ],
   "source": [
    "# CALCOLO DELLA SOLUZIONE:\n",
    "x = spl.solve(B,b)\n",
    "print(x)"
   ]
  },
  {
   "cell_type": "code",
   "execution_count": 53,
   "id": "8fa7b8bc-dcc2-4091-8f69-7113e3ba187f",
   "metadata": {
    "tags": []
   },
   "outputs": [
    {
     "name": "stdout",
     "output_type": "stream",
     "text": [
      "[[6.01000000e+00 6.30000000e+01 6.62200000e+02]\n",
      " [6.30000000e+01 6.62200000e+02 6.96780000e+03]\n",
      " [6.62200000e+02 6.96780000e+03 7.33935664e+04]]\n",
      "[[67.09867276]\n",
      " [-9.66739506]\n",
      " [ 0.3124175 ]]\n"
     ]
    }
   ],
   "source": [
    "# PERTURBAZIONE DELLA MATRICE:\n",
    "B_perturbato = B.copy()\n",
    "B_perturbato[0][0] = B_perturbato[0][0] + 0.01\n",
    "print(B_perturbato)\n",
    "x_perturbato = spl.solve(B_perturbato, b)\n",
    "print(x_perturbato)"
   ]
  },
  {
   "cell_type": "code",
   "execution_count": 54,
   "id": "eb29bc9d-a0a0-4d94-ac0a-b073ef3001a2",
   "metadata": {
    "tags": []
   },
   "outputs": [
    {
     "name": "stdout",
     "output_type": "stream",
     "text": [
      "Errore relativo sui dati:\n",
      " 2.679241238881187e-06\n",
      "Errore relativo sulla soluzione:\n",
      " 0.9995081547933965\n"
     ]
    }
   ],
   "source": [
    "# MISURAZIONE DELL'ERRORE RELATIVO ALLA MATRICE:\n",
    "errore_matrice = npl.norm(B_perturbato - B, np.inf)/npl.norm(B, np.inf)\n",
    "# MISURAZIONE DELL'ERRORE RELATIVO SULLA SOLUZIONE:\n",
    "errore_soluzione = npl.norm(x_perturbato - x, np.inf)/npl.norm(x, np.inf)\n",
    "print(\"Errore relativo sui dati:\\n\", errore_dati)\n",
    "print(\"Errore relativo sulla soluzione:\\n\", errore_soluzione)"
   ]
  },
  {
   "cell_type": "code",
   "execution_count": 55,
   "id": "6b1c377c-41eb-4fbd-b45d-3980a2a7d2b7",
   "metadata": {
    "tags": []
   },
   "outputs": [
    {
     "name": "stdout",
     "output_type": "stream",
     "text": [
      "Indice di condizionamento K(B):\n",
      " 19753018830.04029\n"
     ]
    }
   ],
   "source": [
    "# La matrice dovrà essere necessariamente una matrice mal condizionata visto che per un piccolo errore sui dati, si viene a formare un errore sui risultati immenso\n",
    "# Risolvere un sistema lineare con questo tipo di matrice, porta a dei risultati che sono ben lontani da quelli che ci aspetteremmo\n",
    "KB = npl.cond(B,np.inf)\n",
    "print(\"Indice di condizionamento K(B):\\n\", KB)"
   ]
  },
  {
   "cell_type": "markdown",
   "id": "3fd35cbb-3eaa-4674-91ff-cf7148cac8b8",
   "metadata": {},
   "source": [
    "## Esercizio 3\n",
    " \n",
    "Assegnato il sistema lineare $Ax = b$, con $A$ matrice di Hilbert di ordine\n",
    "$4$ e $b = [1, 1, 1, 1]^T$,\n",
    " - trovare il vettore soluzione $x$ (usando il metodo solve del modulo linalg di Scipy);\n",
    " -  perturbare il vettore dei termini noti della quantità\n",
    "$$\n",
    "\\delta b = 0.01 \\, \\ast \\,\n",
    "\\left [\n",
    "\\begin{array}{c}\n",
    "1\\\\\n",
    "-1\\\\\n",
    "1\\\\\n",
    "-1\n",
    "\\end{array}\n",
    "\\right ]\n",
    "$$\n",
    "quindi calcolare la soluzione del sistema $A x_p= b_p$ con termine noto $b_p=b+ \\delta b$.\n",
    "Calcolare l'errore relativo sulla soluzione e confrontarlo con la perturbazione relativa sui dati di ingresso. Cosa si osserva?\n",
    "\n",
    "Nota: per la costruzione della matrice di Hilbert usare la funzione hilbert(n) del modulo scipy.linalg\n",
    "(scipy.linalg.hilbert(n))  dove bisogna specificare l'ordine n della matrice."
   ]
  },
  {
   "cell_type": "code",
   "execution_count": null,
   "id": "8a29e239-7fe8-4975-b983-494b78cef892",
   "metadata": {},
   "outputs": [],
   "source": []
  },
  {
   "cell_type": "markdown",
   "id": "477f9f08-5298-422f-9e6b-699dbc793c2e",
   "metadata": {},
   "source": [
    "### APPUNTI ESERCIZIO 3\n",
    "La matrice di Hilbert è una matrice di Hilbert è una matrice quadrata con componenti ℎ𝑖𝑗=(𝑖+𝑗−1)^(−1)"
   ]
  },
  {
   "cell_type": "markdown",
   "id": "b1d646aa-f01a-4754-85e0-8803dc40b54f",
   "metadata": {},
   "source": [
    "# Metodi diretti per la soluzione numerica di un sistema lineare"
   ]
  },
  {
   "cell_type": "markdown",
   "id": "7109d577-bfe8-4a75-85c4-68bd06f23f2d",
   "metadata": {},
   "source": [
    "### APPUNTI\n",
    "#### METODO DI GAUSS:\n",
    "A (n*n), con det(A)!=0, allora esiste una matrice di permutazione P, tale che:\n",
    "- PA = LU\n",
    "    - L è una matrice triangolare inferiore\n",
    "    - U è una matrice triangolare superiore (rij!=0)\n",
    "- Il sistema PAX = Pb --> LUx = Pb, ottenendo il sistema dato dalle equazioni:\n",
    "    - Ly = Pb     --> Risolvibile con la funzione Lsolve\n",
    "    - Ux = y      --> Risolvibile con la funzione Usolve\n",
    "- PT, L, U = spl.lu(A)\n",
    "- P  PT.T.copy()\n",
    "\n",
    "#### METODO DI CHOLESKY:\n",
    "Se la matrice A è simmetrica e definita positiva, allora:\n",
    "- A = L*L_trasposta   -->  lij > 0\n",
    "    - L = spl.cholesky(A, lower = True)\n",
    "        - Se non scriviamo lower = True ci restituisce L_trasposta\n",
    "        - Se utilizziamo una matrice A che non è simmetrica allora restituisce un errore\n",
    "    - LT = L.T\n",
    "    \n",
    "#### METODO QR:\n",
    "Nel caso in cui la matrice A possiede rango massimo, allora:\n",
    "- A = Q*R\n",
    "    - Q è una matrice ortogonale (per cui l'inversa coincide con la trasposta)\n",
    "    - R è una matrice triangolare superiore\n",
    "- Q,R = spl.qr(A)\n",
    "- Si ottiene il sistema composta dalle seguenti equazioni:\n",
    "    - Qy = b     -->    y = Q_trasposta*b\n",
    "    - Rx = y\n",
    "    \n",
    "##### APPUNTI FINALI\n",
    "L'errore relativo di QR è minore dell'algoritmo di Gauss, perchè l'algoritmo è più stabile "
   ]
  },
  {
   "cell_type": "markdown",
   "id": "d49457b8-af07-4729-a33a-dc93547c1a20",
   "metadata": {},
   "source": [
    "## Nota 1.\n",
    "La funzione *scipy.linalg.lu(A)*  , presa in input una matrice A a rango massimo, restituisce in output le matrici $P^T$,L,U,  della fattorizzazione di LU della matrice A in maniera tale che PA=LU (restituisce la matrice di permutazione trasposta)"
   ]
  },
  {
   "cell_type": "code",
   "execution_count": 37,
   "id": "6164dfcc-4ff8-4d35-9ba3-59cae1f5189e",
   "metadata": {},
   "outputs": [
    {
     "name": "stdout",
     "output_type": "stream",
     "text": [
      "A= [[2 1]\n",
      " [3 4]]\n",
      "L= [[1.         0.        ]\n",
      " [0.66666667 1.        ]]\n",
      "U= [[ 3.          4.        ]\n",
      " [ 0.         -1.66666667]]\n",
      "P= [[0. 1.]\n",
      " [1. 0.]]\n",
      "Matrice P*A \n",
      " [[3. 4.]\n",
      " [2. 1.]]\n",
      "Matrice ottenuta moltipicando Le ed U \n",
      " [[3. 4.]\n",
      " [2. 1.]]\n"
     ]
    }
   ],
   "source": [
    "import numpy as np\n",
    "import scipy as sp\n",
    "from scipy.linalg import lu\n",
    "A=np.array([[2,1],[3,4]])\n",
    "PT,L,U=lu(A)  #Restituisce in output la trasposta della matrice di Permutazione\n",
    "P=PT.T.copy()   #P è la matrice di permutazione\n",
    "print(\"A=\",A)\n",
    "print(\"L=\",L)\n",
    "print(\"U=\",U)\n",
    "print(\"P=\",P)\n",
    "#LU è la fattorizzazione di P*A (terorema 2)\n",
    "A1=P@A # equivale al prodotto matrice x matrice np.dot(P,A)\n",
    "A1Fatt=L@U # equivale a np.dot(L,U)\n",
    "print(\"Matrice P*A \\n\", A1)\n",
    "print(\"Matrice ottenuta moltipicando Le ed U \\n\",A1Fatt)\n"
   ]
  },
  {
   "cell_type": "markdown",
   "id": "76f8f316-d9af-4596-9eed-5aa64f913f1f",
   "metadata": {},
   "source": [
    "## Nota 2\n",
    "La funzione *scipy.linalg.cholesky(a, lower=True)*, presa in input una matrice simmetrica e definta positiva restituisce in output la matrice L triangolare inferiore tale che $A=L \\cdot L^T$. Se la matrice in input non è definita positiva, restituisce un errore."
   ]
  },
  {
   "cell_type": "code",
   "execution_count": 38,
   "id": "162e3ab4-4a37-43d4-9727-6f032595449f",
   "metadata": {},
   "outputs": [
    {
     "name": "stdout",
     "output_type": "stream",
     "text": [
      "[[ 2  1  3]\n",
      " [ 1  5  7]\n",
      " [ 3  7 12]]\n"
     ]
    }
   ],
   "source": [
    "from scipy.linalg import cholesky\n",
    "A=np.array([[2,1,3],[1,5,7],[3,7,12]])\n",
    "print(A)"
   ]
  },
  {
   "cell_type": "code",
   "execution_count": 39,
   "id": "96fd572b-f470-4436-aea2-0bb5da4fdd23",
   "metadata": {},
   "outputs": [
    {
     "name": "stdout",
     "output_type": "stream",
     "text": [
      "[[1.41421356 0.         0.        ]\n",
      " [0.70710678 2.12132034 0.        ]\n",
      " [2.12132034 2.59272486 0.8819171 ]]\n",
      "A1=\n",
      " [[ 2.  1.  3.]\n",
      " [ 1.  5.  7.]\n",
      " [ 3.  7. 12.]]\n"
     ]
    }
   ],
   "source": [
    "L=cholesky(A,lower=True)\n",
    "print(L)\n",
    "A1=L@L.T\n",
    "print(\"A1=\\n\",A1)"
   ]
  },
  {
   "cell_type": "markdown",
   "id": "6760f2a0-ffec-49a1-96f7-ed643109e4d7",
   "metadata": {},
   "source": [
    "## Nota 3\n",
    "La funzione *scipy.linalg.qr(a)*, presa in input una matrice A (nxn)  a rango massimo, restituisce in output le matrici Q (ortogonale di dimensione nxn) ed una matrice R (nxn) triangolare superiore tale che $A=Q \\cdot R$"
   ]
  },
  {
   "cell_type": "code",
   "execution_count": 40,
   "id": "e336d0a6-f2c3-4a7b-a8e3-871e70ca917c",
   "metadata": {},
   "outputs": [
    {
     "name": "stdout",
     "output_type": "stream",
     "text": [
      "Q= [[-0.53452248  0.6882472  -0.49051147]\n",
      " [-0.26726124 -0.6882472  -0.67445327]\n",
      " [-0.80178373 -0.22941573  0.55182541]]\n",
      "R= [[ -3.74165739  -7.48331477 -13.09580085]\n",
      " [  0.          -4.35889894  -5.50597761]\n",
      " [  0.           0.           0.42919754]]\n",
      "[[ 2.  1.  3.]\n",
      " [ 1.  5.  7.]\n",
      " [ 3.  7. 12.]]\n"
     ]
    }
   ],
   "source": [
    "from scipy.linalg import qr\n",
    "A=np.array([[2,1,3],[1,5,7],[3,7,12]])\n",
    "Q,R=qr(A)\n",
    "print(\"Q=\",Q)\n",
    "print(\"R=\",R)\n",
    "A1=Q@R\n",
    "print(A1)"
   ]
  },
  {
   "cell_type": "markdown",
   "id": "270ae20e-08a7-4ab4-a710-c4541a398ec1",
   "metadata": {},
   "source": [
    "## Esercizio 4\n",
    "- si implementi una function LUsolve(P,A,L,U,b) che risolve il sistema lineare Ax=b nel caso di fattorizzazione $PA = LU$ assegnata,\n",
    "combinando i metodi di risoluzione in avanti ed all'indietro  implementati nel file SolveTriangular.py.\n",
    "- si testi sulla matrice A = np.array([[2, 5, 8, 7], [5, 2, 2, 8], [7, 5, 6, 6], [5, 4, 4, 8]]) con termine noto b scelto in maniera tale che la soluzione esatta del sistema lineare sia il vettore formato da tutti 1."
   ]
  },
  {
   "cell_type": "code",
   "execution_count": 56,
   "id": "29e66c90-4801-4789-9257-dd1b6cd36c32",
   "metadata": {
    "tags": []
   },
   "outputs": [],
   "source": [
    "# Importo tutte le funzioni del pacchetto SolveTriangular:\n",
    "from SolveTriangular import *\n",
    "# Se facevo import SolveTriangular as ST, avrei dovuto usare ST.metodo ovunque\n",
    "# Facendo in questo modo mi basta scrivere il nome del metodo"
   ]
  },
  {
   "cell_type": "code",
   "execution_count": 57,
   "id": "c3099fa4-4298-4c53-b282-9ddf6339333e",
   "metadata": {
    "tags": []
   },
   "outputs": [],
   "source": [
    "def LUSolve(P,L,U,b):\n",
    "    # Il flag è 1 se è presente un elemento nullo sulla diagonale\n",
    "    # La funzione esegue questo controllo, ma L non può mai avere valore sulla diagonale uguale a zero\n",
    "    y, flag = Lsolve(L, P@b)\n",
    "    if flag == 0:\n",
    "        x, flag = Usolve(U,y)\n",
    "    else:\n",
    "        return None, flag\n",
    "    \n",
    "    return x, flag"
   ]
  },
  {
   "cell_type": "code",
   "execution_count": 58,
   "id": "f7b81fe0-e104-4b49-84b1-1dfae0f9f428",
   "metadata": {
    "tags": []
   },
   "outputs": [
    {
     "name": "stdout",
     "output_type": "stream",
     "text": [
      "[[2 5 8 7]\n",
      " [5 2 2 8]\n",
      " [7 5 6 6]\n",
      " [5 4 4 8]]\n",
      "[[22]\n",
      " [17]\n",
      " [24]\n",
      " [21]]\n",
      "Soluzione:\n",
      " [[1.]\n",
      " [1.]\n",
      " [1.]\n",
      " [1.]]\n"
     ]
    }
   ],
   "source": [
    "A = np.array([[2,5,8,7], [5,2,2,8], [7,5,6,6], [5,4,4,8]])\n",
    "n = A.shape[0]\n",
    "b = np.sum(A, axis = 1).reshape(n,1)\n",
    "print(A)\n",
    "print(b)\n",
    "PT,L,U = spl.lu(A)\n",
    "P = PT.T.copy()\n",
    "x, flag = LUSolve(P,L,U,b)\n",
    "print(\"Soluzione:\\n\", x)"
   ]
  },
  {
   "cell_type": "markdown",
   "id": "daa94c30-7b43-4ab5-896b-f2b2409a8a56",
   "metadata": {},
   "source": [
    "## Esercizio 5\n",
    "Si implementi una function *solve_nsis(A,B)* per il calcolo della soluzione di un generale sistema lineare $AX = B$, con $X, B$ matrici, che usi la fattorizzazione LU della matrice PA, per risolvere n sistemi lineari: aventi la stessa matrice dei coefficienti A e termine noto l'i-esima colonna della matrice B. \n",
    "Utilizzarla poi per il calcolo dell'inversa delle\n",
    "matrici non singolari\n",
    "$$\n",
    "A=\\left[\n",
    "\\begin{array}{ccc}\n",
    "3 & 5 & 7\\\\\n",
    "2 & 3 & 4\\\\\n",
    "5 & 9 & 11\n",
    "\\end{array}\n",
    "\\right ], \\qquad\n",
    "A=\\left[\n",
    "\\begin{array}{cccc}\n",
    "1 & 2 & 3 & 4\\\\\n",
    "2 & -4 & 6 & 8\\\\\n",
    "-1 & -2 & -3 & -1\\\\\n",
    "5 & 7 & 0 & 1\n",
    "\\end{array}\n",
    "\\right ],\n",
    "$$\n",
    "confrontando i risultati ottenuti con l'output\n",
    "della funzione  *scipy.linalg.inv(A)*"
   ]
  },
  {
   "cell_type": "markdown",
   "id": "4a60c27b-99dc-41dd-83cd-bb9791259ed2",
   "metadata": {},
   "source": [
    "### APPUNTI ESERCIZIO 5:\n",
    "Risolvere il generale sistema lineare AX=B\n",
    "- xi è la colonna i-esima di X\n",
    "- bi è la colonna i-esima di B\n",
    "    - Axi = bi (per i=1,...,n)\n",
    "- AX = I   -->   X = A^(-1)\n",
    "Bisogna scrivere la funzione solve_nsis(A,B)\n",
    "Fattorizzare A:\n",
    "- P,L,U   -->  PA = LU\n",
    "- for (i=1,...,n) {x = LUSolve(P,L,B[:,i] --- \\n --- x[:,i] = x --- \\n --- return x} "
   ]
  },
  {
   "cell_type": "code",
   "execution_count": 74,
   "id": "56415416-b553-4c75-92ec-7c06152e455d",
   "metadata": {
    "tags": []
   },
   "outputs": [],
   "source": [
    "# DEFINIZIONE DELLA FUNZIONE PER IL CALCOLO DELLA SOLUZIONE DI UN SISTEMA GENERALE LINEARE:\n",
    "def solve_nsis(A,B):\n",
    "    n = A.shape[0]\n",
    "    PT,L,U = spl.lu(A)\n",
    "    P = PT.T.copy()\n",
    "    X = np.zeros_like(A)\n",
    "    for i in range(0,n):\n",
    "        x, flag = LUSolve(P,L,U,B[:,i])\n",
    "        if flag != 0:\n",
    "            return None\n",
    "        else:\n",
    "            # Fa in modo di rendere x monodimensionale\n",
    "            X[:,i] = x.reshape(n,)\n",
    "    return X"
   ]
  },
  {
   "cell_type": "code",
   "execution_count": 75,
   "id": "3434aefd-aae1-4ce3-8217-d4c32bf3e77a",
   "metadata": {
    "tags": []
   },
   "outputs": [
    {
     "name": "stdout",
     "output_type": "stream",
     "text": [
      "Soluzione\n",
      " [[-1.5  4.  -0.5]\n",
      " [-1.  -1.   1. ]\n",
      " [ 1.5 -1.  -0.5]]\n",
      "Soluzione esatta:\n",
      " [[-1.5  4.  -0.5]\n",
      " [-1.  -1.   1. ]\n",
      " [ 1.5 -1.  -0.5]]\n"
     ]
    }
   ],
   "source": [
    "A = np.array([[3.0,5,7],[2,3,4],[5,9,11]])\n",
    "B = np.eye(3)\n",
    "X = solve_nsis(A,B)\n",
    "print(\"Soluzione\\n\", X)\n",
    "print(\"Soluzione esatta:\\n\", spl.inv(A))"
   ]
  },
  {
   "cell_type": "markdown",
   "id": "412ae29a-6a32-43e0-9456-e7677f695feb",
   "metadata": {},
   "source": [
    "## Esercizio 6\n",
    "Sfruttando la fattorizzazione PA=LU  di una delle matrici del punto precedente, calcolarne il determinante.\n"
   ]
  },
  {
   "cell_type": "markdown",
   "id": "8b359b50-ef2b-4a62-8623-b4cba6a31468",
   "metadata": {},
   "source": [
    "## Esercizio 7\n",
    "Per valori di $n = 4 : 6 : 40$, si consideri il sistema lineare $A_n x = b$ con\n",
    "\n",
    "$A_n$ matrice di Hankel di ordine $n$ di elementi\n",
    "$$\n",
    "a^{(n)}_{i,n+k-i}\n",
    "=\n",
    "\\left \\{\n",
    "\\begin{array}{ll}\n",
    "2^k & \\hbox{se} \\ k > 0,\\\\\n",
    "2^{1/(2-k)} & \\hbox{se} \\ k \\leq 0,\n",
    "\\end{array}\n",
    "\\right .\n",
    "\\qquad\n",
    "i = 1, ..., n, \\ \\  k = i + 1-n, ..., i,\n",
    "$$\n",
    "e $b$ scelto in modo che risulti $x = [1, 1, ..., 1]^T$. Si risolva tale sistema\n",
    "\n",
    "con il metodo di fattorizzazione LU della matrice PA\n",
    "e il metodo di fattorizzazione QR (Q,R  =scipy.linalg.qr(A)).\n",
    "Calcolare gli errori relativi $\\| \\delta x \\|_2/\\|x\\|_2$ da cui sono affette\n",
    "le soluzioni calcolate con i due metodi e produrre, al variare di $n$, un\n",
    "grafico in scala logaritmica ( matplotlib.plyplot.loglog) degli errori relativi calcolati. Che cosa si\n",
    "osserva?\n",
    "\n",
    "NB: per il calcolo della matrice di Hankel utilizzare la function \n",
    "\n",
    "def Hankel(n):\n",
    "\n",
    "    A=np.zeros((n,n),dtype=float)\n",
    "    for i in range(0,n):\n",
    "        for k in range(i+1-n,i+1):\n",
    "            if k>0:\n",
    "                A[i,n-1+k-i]=2.0**(k+1)\n",
    "            else:\n",
    "                A[i,n-1+k-i]=2.0**(1/(2-k-1))\n",
    "    return A"
   ]
  },
  {
   "cell_type": "code",
   "execution_count": null,
   "id": "d5e324f7-cf4e-487d-9226-334b78174dfc",
   "metadata": {},
   "outputs": [],
   "source": []
  },
  {
   "cell_type": "markdown",
   "id": "00b1242a-d51d-40fa-a9ed-716cc4ab9d89",
   "metadata": {},
   "source": [
    "## Esercizio 8\n",
    "\n",
    "Ripetere l'esercizio precedente per risolvere il sistema lineare $Ax = b$\n",
    "con $A$ e $b$ cos\\`i  definiti:\n",
    "$$\n",
    "a^{(n)}_{i,j}=\n",
    "\\left \\{\n",
    "\\begin{array}{ll}\n",
    "1 & \\hbox{se} \\ i=j \\ \\hbox{o \\, se} \\ j=n,\\\\\n",
    "-1 & \\hbox{se} \\ i>j,\\\\\n",
    "0 & \\hbox{altrimenti}\n",
    "\\end{array}\n",
    "\\right .\n",
    "\\qquad\n",
    "b = A \\cdot [1, ..., 1]^T,\n",
    "$$\n",
    "per $n = 48 : 2 : 58$ e $b$ scelto in modo che risulti $x = [1, 1, ..., 1]^T$. Che\n",
    "cosa si osserva?"
   ]
  },
  {
   "cell_type": "markdown",
   "id": "66ae0b30-e823-4742-9b43-95268605d358",
   "metadata": {},
   "source": [
    "## Metodi iterativi di Jacobi, Guass-Seidel e Gausseidel_SOR per la soluzione numerica di un sistema lineare"
   ]
  },
  {
   "cell_type": "markdown",
   "id": "28bc92ed-296e-4af1-9b6a-839bf95f81ca",
   "metadata": {},
   "source": [
    "## Esercizio 9\n",
    "Implementare la  funzione $jacobi(A,b,x0,toll,itmax)$ per risolvere il  sistema lineare Ax=b utilizzando il Metodo iterativo di Jacobi. \n",
    "La funzione prende in input:\n",
    "- A: matrice dei coefficienti\n",
    "- b: termine noto\n",
    "- x0: vettore iniziale della stessa dimensione di b\n",
    "- toll: tolleranza per il criterio di arresto\n",
    "- itmax: iterazioni massime oltre le quali il metodo si ferma\n",
    "\n",
    "Calcolare il raggio spettrale della matrice di iterazione.\n",
    "\n",
    "Implementare un criterio di arresto per il procedimento iterativo in termini di : $||x^{(k)}-x^{(k-1)}||/||x^{(k)}|| <toll$"
   ]
  },
  {
   "cell_type": "markdown",
   "id": "94f1b913-cae9-4b23-b6ab-ed8dcc1d4ce6",
   "metadata": {},
   "source": [
    "## Esercizio 10\n",
    "Implementare la  funzione $gauss$_$seidel(A,b,x0,toll,it_max)$ per risolvere il  sistema lineare Ax=b utilizzando il Metodo iterativo di Gauss-Seidel. \n",
    "La funzione prende in input:\n",
    "- A: matrice dei coefficienti\n",
    "- b: termine noto\n",
    "- x0: vettore iniziale della stessa dimensione di b\n",
    "- toll: tolleranza per il criterio di arresto\n",
    "- itmax: iterazioni massime oltre le quali il metodo si ferma\n",
    "\n",
    "Calcolare il raggio spettrale della matrice di iterazione.\n",
    "\n",
    "Implementare un criterio di arresto per il procedimento iterativo in termini di : $||x^{(k)}-x^{(k-1)}||/||x^{(k)}|| <toll$"
   ]
  },
  {
   "cell_type": "markdown",
   "id": "d45f316b-0e7e-4d7a-9d5d-08ffc5610cab",
   "metadata": {},
   "source": [
    "## Esercizio 11\n",
    "Testare i metodi di Jacobi e di Gauss Seidel nella soluzione dei sistemi lineare Ax=b, dove \n",
    "- A=np.array([[4,1,3],[3,4,1],[1,1,17]]) \n",
    "- A=np.array([[3,0, 4],[7, 4, 3],[-1, -1 ,-2]])\n",
    "- A=np.array([[5, 0, -1, 2],[ -2, 4, 1, 0],[0, -1, 4, -1],[ 2, 0, 0, 3]])\n",
    "\n",
    "ed il termine noto del sistema è scelto in maniera tale che la soluzione esatta del sistema sia il vettore fatto da tutti 1.\n",
    "Visualizzare in un grafico in scala logaritmica  l'errore per ogni iterazione per ciascun metodo. Cosa si osserva?\n",
    "Porre toll=1e-8 it_max=500 e x0=np.zeros(A.shape[0]"
   ]
  },
  {
   "cell_type": "code",
   "execution_count": null,
   "id": "38703e79-c87e-4118-89ed-f580aa14c351",
   "metadata": {},
   "outputs": [],
   "source": []
  },
  {
   "cell_type": "markdown",
   "id": "389daa82-16aa-4c52-b830-41693c320ecd",
   "metadata": {},
   "source": [
    "## Esercizio 12\n",
    "Implementare la  funzione $gauss$_$seidel$_sor(A,b,x0,omega, toll,itmax) per risolvere il  sistema lineare Ax=b utilizzando il Metodo iterativo di Gauss-Seidel-SOR\n",
    "La funzione prende in input:\n",
    "- A: matrice dei coefficienti\n",
    "- b: termine noto\n",
    "- x0: vettore iniziale della stessa dimensione di b\n",
    "- omega: il parametro di rilassamento\n",
    "- toll: tolleranza per il criterio di arresto\n",
    "- itmax: iterazioni massime oltre le quali il metodo si ferma\n",
    "\n",
    "Restituisce in output\n",
    "- la soluzione x\n",
    "- l'errore ad ogni iterazione calcolato come $||x^{(k)}-x^{(k-1)}||/||x^{(k)}||$\n",
    "\n",
    "Calcolare il raggio spettrale della matrice di iterazione.\n",
    "\n",
    "Implementare un criterio di arresto per il procedimento iterativo in termini di : $||x^{(k)}-x^{(k-1)}||/||x^{(k)}|| <toll$"
   ]
  },
  {
   "cell_type": "markdown",
   "id": "2d2d64d1-52ae-43c5-a76c-e869474b6496",
   "metadata": {},
   "source": [
    "## Esercizio 13\n",
    "Scrivere una funzione creaPoisson(n) che preso in input l'ordine della matrice quadrata di Poisson la costruzione secondo la seguente formula:\n",
    "$$A =\n",
    "\\left [\n",
    "\\begin{array}{ccccccccccc}\n",
    "4 & -1 & 0 & -1 &0 &0 & 0& 0& \\cdots &   0 & 0\\\\\n",
    "-1 & 4 & -1 & 0  &-1 &0 & 0& 0& \\cdots &   0 & 0\\\\\n",
    "0 & -1 & 4 & -1  &0 &-1 & 0& 0& \\cdots &   0 & 0 \\\\\n",
    "-1 & 0 & -1 & 4  &-1 &0  & -1 & 0& \\cdots &   0 & 0\\\\\n",
    "0 & -1 & 0 & -1  & 4 &-1 & 0 & -1& \\cdots &   0 & 0\\\\\n",
    "0 & 0 & -1 & 0  & -1 &4 & -1 & 0&  -1 & 0 & 0 \\\\\n",
    "0 & 0 & 0 & \\ddots  & 0 &\\ddots & \\ddots & \\ddots& \\ddots & \\ddots & 0\\\\\n",
    "0 & 0 & 0 & 0  & -1 &0  & -1 & 4& -1 &   0& -1\\\\\n",
    "\\end{array}\n",
    " \\right ], \\qquad\n",
    "$$\n",
    "- Risolvere il sistema lineare Ax=b con matrice dei coefficienti A di Poisson di ordine 10 e termine noto b scelto in maniera tale che il sistema abbia soluzione il vettore x con tutte le componenti  uguali ad 1, utilizzando  il metodo iterativo di Jacobi, Gauss-Seidel e Gauss-Seidel-Sor con parametro omega scelto tra 1 e 2 in maniera tale che il raggio spettrale della matrice di iterazione sia il più piccolo possibile e confrontare su un unico grafico l'andamento degli errori in scala logaritmica. Usare toll=1e-10."
   ]
  }
 ],
 "metadata": {
  "kernelspec": {
   "display_name": "Python 3 (ipykernel)",
   "language": "python",
   "name": "python3"
  },
  "language_info": {
   "codemirror_mode": {
    "name": "ipython",
    "version": 3
   },
   "file_extension": ".py",
   "mimetype": "text/x-python",
   "name": "python",
   "nbconvert_exporter": "python",
   "pygments_lexer": "ipython3",
   "version": "3.11.3"
  }
 },
 "nbformat": 4,
 "nbformat_minor": 5
}
